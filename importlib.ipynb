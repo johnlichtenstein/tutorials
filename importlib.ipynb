{
 "cells": [
  {
   "cell_type": "markdown",
   "metadata": {},
   "source": [
    "## Using importlib to import from specific path\n",
    "If we need to import a module for which we have the path as a string, we might use an exec. This will sometimes work and sometimes not, so it's not the best way. Better to use the importlib "
   ]
  },
  {
   "cell_type": "code",
   "execution_count": 1,
   "metadata": {},
   "outputs": [],
   "source": [
    "import importlib\n",
    "import os\n",
    "import sys"
   ]
  },
  {
   "cell_type": "markdown",
   "metadata": {},
   "source": [
    "### Create cake, pie, and custard to import\n",
    "These will be stored in os.getcwd()"
   ]
  },
  {
   "cell_type": "code",
   "execution_count": 16,
   "metadata": {},
   "outputs": [],
   "source": [
    "otFL = [open(x, \"w\") for x in \"cake.py pie.py custard.py\".split()]\n",
    "for otF, msg in zip(otFL, \"good better best\".split()):\n",
    "    otF.write(\"quality = '%s'\" %(msg))\n",
    "    otF.close()"
   ]
  },
  {
   "cell_type": "markdown",
   "metadata": {},
   "source": [
    "### Normal import\n",
    "This is the normal way to import. "
   ]
  },
  {
   "cell_type": "code",
   "execution_count": 17,
   "metadata": {},
   "outputs": [
    {
     "data": {
      "text/plain": [
       "'good'"
      ]
     },
     "execution_count": 17,
     "metadata": {},
     "output_type": "execute_result"
    }
   ],
   "source": [
    "import cake\n",
    "cake.quality"
   ]
  },
  {
   "cell_type": "markdown",
   "metadata": {},
   "source": [
    "### Using exec to import\n",
    "But sometimes we have a string for the module name and can't hardcode it. We can create a string to \"import pie\" and run that with an exec. This will often work and does here. "
   ]
  },
  {
   "cell_type": "code",
   "execution_count": 23,
   "metadata": {},
   "outputs": [
    {
     "name": "stdout",
     "output_type": "stream",
     "text": [
      "import pie\n"
     ]
    }
   ],
   "source": [
    "temp = \"pie\"\n",
    "print (\"import %s\" %(temp))"
   ]
  },
  {
   "cell_type": "code",
   "execution_count": 24,
   "metadata": {},
   "outputs": [
    {
     "data": {
      "text/plain": [
       "'better'"
      ]
     },
     "execution_count": 24,
     "metadata": {},
     "output_type": "execute_result"
    }
   ],
   "source": [
    "exec(\"import %s\" %(temp))\n",
    "pie.quality"
   ]
  },
  {
   "cell_type": "markdown",
   "metadata": {},
   "source": [
    "### Using importlib\n",
    "But sometimes the exec wont work and that's when you will need to use importlib. Following the [best answer](https://stackoverflow.com/questions/67631/how-to-import-a-module-given-the-full-path), we use the importlib.util.spec_from_file_location to specify the path to load from and then import.  "
   ]
  },
  {
   "cell_type": "code",
   "execution_count": 22,
   "metadata": {},
   "outputs": [
    {
     "data": {
      "text/plain": [
       "'best'"
      ]
     },
     "execution_count": 22,
     "metadata": {},
     "output_type": "execute_result"
    }
   ],
   "source": [
    "spec = importlib.util.spec_from_file_location(\"custard\" \\\n",
    "                                              , os.path.join(os.getcwd(), \"custard.py\"))\n",
    "tempClass = importlib.util.module_from_spec(spec) \n",
    "spec.loader.exec_module(tempClass)\n",
    "tempClass.quality"
   ]
  }
 ],
 "metadata": {
  "kernelspec": {
   "display_name": "Python 3",
   "language": "python",
   "name": "python3"
  },
  "language_info": {
   "codemirror_mode": {
    "name": "ipython",
    "version": 3
   },
   "file_extension": ".py",
   "mimetype": "text/x-python",
   "name": "python",
   "nbconvert_exporter": "python",
   "pygments_lexer": "ipython3",
   "version": "3.8.3"
  }
 },
 "nbformat": 4,
 "nbformat_minor": 4
}
