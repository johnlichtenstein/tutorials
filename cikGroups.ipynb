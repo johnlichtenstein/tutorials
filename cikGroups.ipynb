{
 "cells": [
  {
   "cell_type": "markdown",
   "metadata": {},
   "source": [
    "<a id=\"top\"></a>\n",
    "## Eliminating Extra Reports from  Index\n",
    "2020-11-05\n",
    "\n",
    "The EDGAR index discussed in [indexReader](#https://github.com/johnlichtenstein/tutorials/blob/master/indexReader.ipynb) has a FormType, CompanyName, CIK, DateFiled, and FileName we can use to filter records or grab data. An example is shown in the table below. \n",
    "\n",
    "|    Field    | Example                                     |\n",
    "|:------------|:--------------------------------------------|\n",
    "| FormType    | ABS-EE                                      |\n",
    "| CompanyName | AFS SENSUB CORP.                            |\n",
    "| CIK         | 1347185                                     |\n",
    "| DateFiled   | 2019-02-27                                  |\n",
    "| FileName    | edgar/data/1347185/0001347185-19-000010.txt |\n",
    "\n",
    "The splitting the FileName by \"/\", the last two entries are the CIK and the Accession Number. The Accession Number shows up in the text of the document itself, which helps keep things straight. The CIK is the same as the CIK field which also helps keep things straight. As discussed in the indexReader, the FileName is not exactly the name you would need to grab the file, but it provides everything you need to figure out that name. \n",
    "\n",
    "Something interesting is that the Accession Number can be reported in multiple CIK. And when this happens it really is the identical document reported in both places, on the same day. What happens is that a company creates a portfolio that gets its oen CIK. The company will report the portfolio one time under its own CIK and then stop, while the portfolio continues reporting. The company CIK will be a lower number for than the portfolio. It's the reports from the CIK that keep reporting that are important for what I am doing. Below we show the situation and some examples, and how to [remove](#filter) those extra entries. "
   ]
  },
  {
   "cell_type": "code",
   "execution_count": 1,
   "metadata": {},
   "outputs": [],
   "source": [
    "import pandas as pd\n",
    "import os\n",
    "from datetime import datetime as dt\n",
    "from matplotlib import pyplot as plt\n",
    "\n",
    "import xiongmao # on pip"
   ]
  },
  {
   "cell_type": "markdown",
   "metadata": {},
   "source": [
    "### Load saved copy of all ABS-EE filings\n",
    "DataFrame exported in [indexReader](#https://github.com/johnlichtenstein/tutorials/blob/master/indexReader.ipynb). We count the number of distinct accension numbers by looking at the length of the set, and can see there are fewer accession numbers than files. "
   ]
  },
  {
   "cell_type": "code",
   "execution_count": 2,
   "metadata": {},
   "outputs": [
    {
     "data": {
      "text/plain": [
       "(12981, 8)"
      ]
     },
     "execution_count": 2,
     "metadata": {},
     "output_type": "execute_result"
    }
   ],
   "source": [
    "indexR = pd.read_excel(\"absEEindex.xlsx\")  \n",
    "indexR.shape"
   ]
  },
  {
   "cell_type": "code",
   "execution_count": 3,
   "metadata": {},
   "outputs": [
    {
     "name": "stdout",
     "output_type": "stream",
     "text": [
      "Number of rows.             : 12981\n",
      "Number of distinct files    : 12981\n",
      "Number of distinct docAccNum: 9716\n"
     ]
    }
   ],
   "source": [
    "indexR[\"docAccNum\"] = [x.split(\"/\")[-1].split(\".\")[0] for x in indexR.FileName]\n",
    "print (\"Number of rows.             : %d\" %(len(indexR)))\n",
    "print (\"Number of distinct files    : %d\" %(len(set(indexR.FileName))))\n",
    "print (\"Number of distinct docAccNum: %d\" %(len(set(indexR.docAccNum))))"
   ]
  },
  {
   "cell_type": "code",
   "execution_count": 4,
   "metadata": {},
   "outputs": [
    {
     "name": "stdout",
     "output_type": "stream",
     "text": [
      "|             | 0                                           |\n",
      "|:------------|:--------------------------------------------|\n",
      "| FormType    | ABS-EE                                      |\n",
      "| CompanyName | AFS SENSUB CORP.                            |\n",
      "| CIK         | 1347185                                     |\n",
      "| DateFiled   | 2019-02-27                                  |\n",
      "| FileName    | edgar/data/1347185/0001347185-19-000010.txt |\n",
      "| yearFiled   | 2019                                        |\n",
      "| isABSee     | 1                                           |\n",
      "| monthFiled  | 2                                           |\n",
      "| docAccNum   | 0001347185-19-000010                        |\n"
     ]
    }
   ],
   "source": [
    "print (indexR.iloc[0].to_markdown())"
   ]
  },
  {
   "cell_type": "markdown",
   "metadata": {},
   "source": [
    "<a id=\"unique\"></a>\n",
    "### Doc Accession Number is *not* Unique\n",
    "And I had expected it to be, so let's look at how many FileNames or CIK we have per docAccNum.\n",
    "[top](#top)"
   ]
  },
  {
   "cell_type": "code",
   "execution_count": 5,
   "metadata": {},
   "outputs": [
    {
     "data": {
      "text/html": [
       "<div>\n",
       "<style scoped>\n",
       "    .dataframe tbody tr th:only-of-type {\n",
       "        vertical-align: middle;\n",
       "    }\n",
       "\n",
       "    .dataframe tbody tr th {\n",
       "        vertical-align: top;\n",
       "    }\n",
       "\n",
       "    .dataframe thead th {\n",
       "        text-align: right;\n",
       "    }\n",
       "</style>\n",
       "<table border=\"1\" class=\"dataframe\">\n",
       "  <thead>\n",
       "    <tr style=\"text-align: right;\">\n",
       "      <th></th>\n",
       "      <th>numFiles</th>\n",
       "      <th>numCIK</th>\n",
       "    </tr>\n",
       "    <tr>\n",
       "      <th>docAccNum</th>\n",
       "      <th></th>\n",
       "      <th></th>\n",
       "    </tr>\n",
       "  </thead>\n",
       "  <tbody>\n",
       "    <tr>\n",
       "      <th>0000929638-17-000295</th>\n",
       "      <td>2</td>\n",
       "      <td>2</td>\n",
       "    </tr>\n",
       "    <tr>\n",
       "      <th>0000929638-17-000314</th>\n",
       "      <td>2</td>\n",
       "      <td>2</td>\n",
       "    </tr>\n",
       "    <tr>\n",
       "      <th>0000929638-17-000459</th>\n",
       "      <td>1</td>\n",
       "      <td>1</td>\n",
       "    </tr>\n",
       "    <tr>\n",
       "      <th>0000929638-17-000514</th>\n",
       "      <td>1</td>\n",
       "      <td>1</td>\n",
       "    </tr>\n",
       "    <tr>\n",
       "      <th>0000929638-17-000577</th>\n",
       "      <td>1</td>\n",
       "      <td>1</td>\n",
       "    </tr>\n",
       "  </tbody>\n",
       "</table>\n",
       "</div>"
      ],
      "text/plain": [
       "                      numFiles  numCIK\n",
       "docAccNum                             \n",
       "0000929638-17-000295         2       2\n",
       "0000929638-17-000314         2       2\n",
       "0000929638-17-000459         1       1\n",
       "0000929638-17-000514         1       1\n",
       "0000929638-17-000577         1       1"
      ]
     },
     "execution_count": 5,
     "metadata": {},
     "output_type": "execute_result"
    }
   ],
   "source": [
    "fcR = indexR.groupby(\"docAccNum\")[\"FileName\"].nunique().todf(nameL=[\"numFiles\"]) \n",
    "ccR = indexR.groupby(\"docAccNum\")[\"CIK\"].nunique().todf(nameL=[\"numCIK\"])\n",
    "countR = fcR.join(ccR)\n",
    "countR.head()"
   ]
  },
  {
   "cell_type": "markdown",
   "metadata": {},
   "source": [
    "<a id=\"pairing\"></a>\n",
    "#### Pairing up\n",
    "The crosstab below looks at the distribution of the number of filenames by the number of CIK for a docAccNum. We can see there is always only ever one or two, and that when there are two CIK there are two filenames. This suggests that the So, mostly, an accession number is associated with 1 file or CIK, but about $\\frac{1}{3}$ of the time there are exactly 2 files and 2 CIK. So about $\\frac{1}{2}$ of files are these doubles. \n",
    "[top](#top)"
   ]
  },
  {
   "cell_type": "code",
   "execution_count": 6,
   "metadata": {},
   "outputs": [
    {
     "data": {
      "text/html": [
       "<div>\n",
       "<style scoped>\n",
       "    .dataframe tbody tr th:only-of-type {\n",
       "        vertical-align: middle;\n",
       "    }\n",
       "\n",
       "    .dataframe tbody tr th {\n",
       "        vertical-align: top;\n",
       "    }\n",
       "\n",
       "    .dataframe thead th {\n",
       "        text-align: right;\n",
       "    }\n",
       "</style>\n",
       "<table border=\"1\" class=\"dataframe\">\n",
       "  <thead>\n",
       "    <tr style=\"text-align: right;\">\n",
       "      <th>numCIK</th>\n",
       "      <th>1</th>\n",
       "      <th>2</th>\n",
       "    </tr>\n",
       "    <tr>\n",
       "      <th>numFiles</th>\n",
       "      <th></th>\n",
       "      <th></th>\n",
       "    </tr>\n",
       "  </thead>\n",
       "  <tbody>\n",
       "    <tr>\n",
       "      <th>1</th>\n",
       "      <td>6451</td>\n",
       "      <td>0</td>\n",
       "    </tr>\n",
       "    <tr>\n",
       "      <th>2</th>\n",
       "      <td>0</td>\n",
       "      <td>3265</td>\n",
       "    </tr>\n",
       "  </tbody>\n",
       "</table>\n",
       "</div>"
      ],
      "text/plain": [
       "numCIK       1     2\n",
       "numFiles            \n",
       "1         6451     0\n",
       "2            0  3265"
      ]
     },
     "execution_count": 6,
     "metadata": {},
     "output_type": "execute_result"
    }
   ],
   "source": [
    "countR.xTab(*\"numFiles numCIK\".split())"
   ]
  },
  {
   "cell_type": "markdown",
   "metadata": {},
   "source": [
    "<a id=\"examples\"></a>\n",
    "#### Examples\n",
    "Let's look at the first and last examples. We can see from the dates that this is not something that just happened in 2016, but has kept happening. For the couple of FileNames looked at, the two CompanyName associated look related. It looks like one is CIK is the company tahat put the portfolio together and another the portfolio.\n",
    "[top](#top)"
   ]
  },
  {
   "cell_type": "code",
   "execution_count": 7,
   "metadata": {},
   "outputs": [
    {
     "data": {
      "text/html": [
       "<div>\n",
       "<style scoped>\n",
       "    .dataframe tbody tr th:only-of-type {\n",
       "        vertical-align: middle;\n",
       "    }\n",
       "\n",
       "    .dataframe tbody tr th {\n",
       "        vertical-align: top;\n",
       "    }\n",
       "\n",
       "    .dataframe thead th {\n",
       "        text-align: right;\n",
       "    }\n",
       "</style>\n",
       "<table border=\"1\" class=\"dataframe\">\n",
       "  <thead>\n",
       "    <tr style=\"text-align: right;\">\n",
       "      <th></th>\n",
       "      <th>2314</th>\n",
       "      <th>2322</th>\n",
       "    </tr>\n",
       "  </thead>\n",
       "  <tbody>\n",
       "    <tr>\n",
       "      <th>FormType</th>\n",
       "      <td>ABS-EE</td>\n",
       "      <td>ABS-EE</td>\n",
       "    </tr>\n",
       "    <tr>\n",
       "      <th>CompanyName</th>\n",
       "      <td>BMW AUTO LEASING LLC</td>\n",
       "      <td>BMW Vehicle Lease Trust 2017-1</td>\n",
       "    </tr>\n",
       "    <tr>\n",
       "      <th>CIK</th>\n",
       "      <td>1126530</td>\n",
       "      <td>1694920</td>\n",
       "    </tr>\n",
       "    <tr>\n",
       "      <th>DateFiled</th>\n",
       "      <td>2017-03-09</td>\n",
       "      <td>2017-03-09</td>\n",
       "    </tr>\n",
       "    <tr>\n",
       "      <th>FileName</th>\n",
       "      <td>edgar/data/1126530/0000929638-17-000295.txt</td>\n",
       "      <td>edgar/data/1694920/0000929638-17-000295.txt</td>\n",
       "    </tr>\n",
       "    <tr>\n",
       "      <th>yearFiled</th>\n",
       "      <td>2017</td>\n",
       "      <td>2017</td>\n",
       "    </tr>\n",
       "    <tr>\n",
       "      <th>isABSee</th>\n",
       "      <td>1</td>\n",
       "      <td>1</td>\n",
       "    </tr>\n",
       "    <tr>\n",
       "      <th>monthFiled</th>\n",
       "      <td>3</td>\n",
       "      <td>3</td>\n",
       "    </tr>\n",
       "    <tr>\n",
       "      <th>docAccNum</th>\n",
       "      <td>0000929638-17-000295</td>\n",
       "      <td>0000929638-17-000295</td>\n",
       "    </tr>\n",
       "  </tbody>\n",
       "</table>\n",
       "</div>"
      ],
      "text/plain": [
       "                                                    2314  \\\n",
       "FormType                                          ABS-EE   \n",
       "CompanyName                         BMW AUTO LEASING LLC   \n",
       "CIK                                              1126530   \n",
       "DateFiled                                     2017-03-09   \n",
       "FileName     edgar/data/1126530/0000929638-17-000295.txt   \n",
       "yearFiled                                           2017   \n",
       "isABSee                                                1   \n",
       "monthFiled                                             3   \n",
       "docAccNum                           0000929638-17-000295   \n",
       "\n",
       "                                                    2322  \n",
       "FormType                                          ABS-EE  \n",
       "CompanyName               BMW Vehicle Lease Trust 2017-1  \n",
       "CIK                                              1694920  \n",
       "DateFiled                                     2017-03-09  \n",
       "FileName     edgar/data/1694920/0000929638-17-000295.txt  \n",
       "yearFiled                                           2017  \n",
       "isABSee                                                1  \n",
       "monthFiled                                             3  \n",
       "docAccNum                           0000929638-17-000295  "
      ]
     },
     "execution_count": 7,
     "metadata": {},
     "output_type": "execute_result"
    }
   ],
   "source": [
    "test = countR.query(\"numFiles == 2\").head(1).reset_index().iloc[0].docAccNum\n",
    "indexR.query(\"docAccNum == @test\").transpose()"
   ]
  },
  {
   "cell_type": "code",
   "execution_count": 8,
   "metadata": {},
   "outputs": [
    {
     "data": {
      "text/html": [
       "<div>\n",
       "<style scoped>\n",
       "    .dataframe tbody tr th:only-of-type {\n",
       "        vertical-align: middle;\n",
       "    }\n",
       "\n",
       "    .dataframe tbody tr th {\n",
       "        vertical-align: top;\n",
       "    }\n",
       "\n",
       "    .dataframe thead th {\n",
       "        text-align: right;\n",
       "    }\n",
       "</style>\n",
       "<table border=\"1\" class=\"dataframe\">\n",
       "  <thead>\n",
       "    <tr style=\"text-align: right;\">\n",
       "      <th></th>\n",
       "      <th>766</th>\n",
       "      <th>1135</th>\n",
       "    </tr>\n",
       "  </thead>\n",
       "  <tbody>\n",
       "    <tr>\n",
       "      <th>FormType</th>\n",
       "      <td>ABS-EE</td>\n",
       "      <td>ABS-EE</td>\n",
       "    </tr>\n",
       "    <tr>\n",
       "      <th>CompanyName</th>\n",
       "      <td>Ally Auto Assets LLC</td>\n",
       "      <td>Ally Auto Receivables Trust 2019-4</td>\n",
       "    </tr>\n",
       "    <tr>\n",
       "      <th>CIK</th>\n",
       "      <td>1477336</td>\n",
       "      <td>1793667</td>\n",
       "    </tr>\n",
       "    <tr>\n",
       "      <th>DateFiled</th>\n",
       "      <td>2020-10-28</td>\n",
       "      <td>2020-10-28</td>\n",
       "    </tr>\n",
       "    <tr>\n",
       "      <th>FileName</th>\n",
       "      <td>edgar/data/1477336/0001793667-20-000059.txt</td>\n",
       "      <td>edgar/data/1793667/0001793667-20-000059.txt</td>\n",
       "    </tr>\n",
       "    <tr>\n",
       "      <th>yearFiled</th>\n",
       "      <td>2020</td>\n",
       "      <td>2020</td>\n",
       "    </tr>\n",
       "    <tr>\n",
       "      <th>isABSee</th>\n",
       "      <td>1</td>\n",
       "      <td>1</td>\n",
       "    </tr>\n",
       "    <tr>\n",
       "      <th>monthFiled</th>\n",
       "      <td>10</td>\n",
       "      <td>10</td>\n",
       "    </tr>\n",
       "    <tr>\n",
       "      <th>docAccNum</th>\n",
       "      <td>0001793667-20-000059</td>\n",
       "      <td>0001793667-20-000059</td>\n",
       "    </tr>\n",
       "  </tbody>\n",
       "</table>\n",
       "</div>"
      ],
      "text/plain": [
       "                                                    766   \\\n",
       "FormType                                          ABS-EE   \n",
       "CompanyName                         Ally Auto Assets LLC   \n",
       "CIK                                              1477336   \n",
       "DateFiled                                     2020-10-28   \n",
       "FileName     edgar/data/1477336/0001793667-20-000059.txt   \n",
       "yearFiled                                           2020   \n",
       "isABSee                                                1   \n",
       "monthFiled                                            10   \n",
       "docAccNum                           0001793667-20-000059   \n",
       "\n",
       "                                                    1135  \n",
       "FormType                                          ABS-EE  \n",
       "CompanyName           Ally Auto Receivables Trust 2019-4  \n",
       "CIK                                              1793667  \n",
       "DateFiled                                     2020-10-28  \n",
       "FileName     edgar/data/1793667/0001793667-20-000059.txt  \n",
       "yearFiled                                           2020  \n",
       "isABSee                                                1  \n",
       "monthFiled                                            10  \n",
       "docAccNum                           0001793667-20-000059  "
      ]
     },
     "execution_count": 8,
     "metadata": {},
     "output_type": "execute_result"
    }
   ],
   "source": [
    "test = countR.query(\"numFiles == 2\").tail(1).reset_index().iloc[0].docAccNum\n",
    "indexR.query(\"docAccNum == @test\").transpose()"
   ]
  },
  {
   "cell_type": "markdown",
   "metadata": {},
   "source": [
    "<a id=\"more examples\"></a>\n",
    "#### Collecting Multi Reported docAccNum\n",
    "For the couple of FileNames looked at, the two CompanyName associated look related. One CIK is the company and another the portfolio. But is it like that for all 3k FileName? First let's filter for the docAccNum that are reported twice."
   ]
  },
  {
   "cell_type": "code",
   "execution_count": 9,
   "metadata": {},
   "outputs": [
    {
     "name": "stdout",
     "output_type": "stream",
     "text": [
      "(6530, 9)\n"
     ]
    },
    {
     "data": {
      "text/html": [
       "<div>\n",
       "<style scoped>\n",
       "    .dataframe tbody tr th:only-of-type {\n",
       "        vertical-align: middle;\n",
       "    }\n",
       "\n",
       "    .dataframe tbody tr th {\n",
       "        vertical-align: top;\n",
       "    }\n",
       "\n",
       "    .dataframe thead th {\n",
       "        text-align: right;\n",
       "    }\n",
       "</style>\n",
       "<table border=\"1\" class=\"dataframe\">\n",
       "  <thead>\n",
       "    <tr style=\"text-align: right;\">\n",
       "      <th></th>\n",
       "      <th>FormType</th>\n",
       "      <th>CompanyName</th>\n",
       "      <th>CIK</th>\n",
       "      <th>DateFiled</th>\n",
       "      <th>FileName</th>\n",
       "      <th>yearFiled</th>\n",
       "      <th>isABSee</th>\n",
       "      <th>monthFiled</th>\n",
       "      <th>docAccNum</th>\n",
       "    </tr>\n",
       "  </thead>\n",
       "  <tbody>\n",
       "    <tr>\n",
       "      <th>7413</th>\n",
       "      <td>ABS-EE</td>\n",
       "      <td>JP MORGAN CHASE COMMERCIAL MORTGAGE SECURITIES...</td>\n",
       "      <td>1013611</td>\n",
       "      <td>2016-11-29</td>\n",
       "      <td>edgar/data/1013611/0001539497-16-004112.txt</td>\n",
       "      <td>2016</td>\n",
       "      <td>1</td>\n",
       "      <td>11</td>\n",
       "      <td>0001539497-16-004112</td>\n",
       "    </tr>\n",
       "    <tr>\n",
       "      <th>7439</th>\n",
       "      <td>ABS-EE</td>\n",
       "      <td>JPMCC Commercial Mortgage Securities Trust 201...</td>\n",
       "      <td>1689111</td>\n",
       "      <td>2016-11-29</td>\n",
       "      <td>edgar/data/1689111/0001539497-16-004112.txt</td>\n",
       "      <td>2016</td>\n",
       "      <td>1</td>\n",
       "      <td>11</td>\n",
       "      <td>0001539497-16-004112</td>\n",
       "    </tr>\n",
       "    <tr>\n",
       "      <th>3207</th>\n",
       "      <td>ABS-EE</td>\n",
       "      <td>CITIGROUP COMMERCIAL MORTGAGE SECURITIES INC</td>\n",
       "      <td>1258361</td>\n",
       "      <td>2016-11-29</td>\n",
       "      <td>edgar/data/1258361/0001539497-16-004124.txt</td>\n",
       "      <td>2016</td>\n",
       "      <td>1</td>\n",
       "      <td>11</td>\n",
       "      <td>0001539497-16-004124</td>\n",
       "    </tr>\n",
       "    <tr>\n",
       "      <th>3239</th>\n",
       "      <td>ABS-EE</td>\n",
       "      <td>CITIGROUP COMMERCIAL MORTGAGE TRUST 2016-P6</td>\n",
       "      <td>1690255</td>\n",
       "      <td>2016-11-29</td>\n",
       "      <td>edgar/data/1690255/0001539497-16-004124.txt</td>\n",
       "      <td>2016</td>\n",
       "      <td>1</td>\n",
       "      <td>11</td>\n",
       "      <td>0001539497-16-004124</td>\n",
       "    </tr>\n",
       "    <tr>\n",
       "      <th>2482</th>\n",
       "      <td>ABS-EE</td>\n",
       "      <td>Banc of America Merrill Lynch Commercial Mortg...</td>\n",
       "      <td>1005007</td>\n",
       "      <td>2016-11-29</td>\n",
       "      <td>edgar/data/1005007/0001539497-16-004148.txt</td>\n",
       "      <td>2016</td>\n",
       "      <td>1</td>\n",
       "      <td>11</td>\n",
       "      <td>0001539497-16-004148</td>\n",
       "    </tr>\n",
       "    <tr>\n",
       "      <th>7962</th>\n",
       "      <td>ABS-EE</td>\n",
       "      <td>Morgan Stanley Bank of America Merrill Lynch T...</td>\n",
       "      <td>1690577</td>\n",
       "      <td>2016-11-29</td>\n",
       "      <td>edgar/data/1690577/0001539497-16-004148.txt</td>\n",
       "      <td>2016</td>\n",
       "      <td>1</td>\n",
       "      <td>11</td>\n",
       "      <td>0001539497-16-004148</td>\n",
       "    </tr>\n",
       "  </tbody>\n",
       "</table>\n",
       "</div>"
      ],
      "text/plain": [
       "     FormType                                        CompanyName      CIK  \\\n",
       "7413   ABS-EE  JP MORGAN CHASE COMMERCIAL MORTGAGE SECURITIES...  1013611   \n",
       "7439   ABS-EE  JPMCC Commercial Mortgage Securities Trust 201...  1689111   \n",
       "3207   ABS-EE       CITIGROUP COMMERCIAL MORTGAGE SECURITIES INC  1258361   \n",
       "3239   ABS-EE        CITIGROUP COMMERCIAL MORTGAGE TRUST 2016-P6  1690255   \n",
       "2482   ABS-EE  Banc of America Merrill Lynch Commercial Mortg...  1005007   \n",
       "7962   ABS-EE  Morgan Stanley Bank of America Merrill Lynch T...  1690577   \n",
       "\n",
       "       DateFiled                                     FileName  yearFiled  \\\n",
       "7413  2016-11-29  edgar/data/1013611/0001539497-16-004112.txt       2016   \n",
       "7439  2016-11-29  edgar/data/1689111/0001539497-16-004112.txt       2016   \n",
       "3207  2016-11-29  edgar/data/1258361/0001539497-16-004124.txt       2016   \n",
       "3239  2016-11-29  edgar/data/1690255/0001539497-16-004124.txt       2016   \n",
       "2482  2016-11-29  edgar/data/1005007/0001539497-16-004148.txt       2016   \n",
       "7962  2016-11-29  edgar/data/1690577/0001539497-16-004148.txt       2016   \n",
       "\n",
       "      isABSee  monthFiled             docAccNum  \n",
       "7413        1          11  0001539497-16-004112  \n",
       "7439        1          11  0001539497-16-004112  \n",
       "3207        1          11  0001539497-16-004124  \n",
       "3239        1          11  0001539497-16-004124  \n",
       "2482        1          11  0001539497-16-004148  \n",
       "7962        1          11  0001539497-16-004148  "
      ]
     },
     "execution_count": 9,
     "metadata": {},
     "output_type": "execute_result"
    }
   ],
   "source": [
    "multiL = list(countR.query(\"numFiles == 2\").index) # list of 2x docAccNum\n",
    "multiR = indexR.query(\"docAccNum in @multiL\") # indexR of those multis \n",
    "print (multiR.shape)\n",
    "multiR.sort_values(\"DateFiled docAccNum CIK\".split()).head(6)"
   ]
  },
  {
   "cell_type": "markdown",
   "metadata": {},
   "source": [
    "<a id=\"relation\"></a>\n",
    "#### Lower CIK is Company\n",
    "In the examples above, we see the lower CIK is \"BIG BANK\" and the higher CIK \"BIG BANK xyz\". Let's look at the relationship between the larger and smaller CIK. We will show that the larger CIK in a pair will always be \n",
    "associated with only one smaller one (the relationship between them is a function). \n",
    "\n",
    "[top](#top)"
   ]
  },
  {
   "cell_type": "code",
   "execution_count": 10,
   "metadata": {},
   "outputs": [
    {
     "name": "stdout",
     "output_type": "stream",
     "text": [
      "(3265, 2)\n"
     ]
    },
    {
     "data": {
      "text/html": [
       "<div>\n",
       "<style scoped>\n",
       "    .dataframe tbody tr th:only-of-type {\n",
       "        vertical-align: middle;\n",
       "    }\n",
       "\n",
       "    .dataframe tbody tr th {\n",
       "        vertical-align: top;\n",
       "    }\n",
       "\n",
       "    .dataframe thead th {\n",
       "        text-align: right;\n",
       "    }\n",
       "</style>\n",
       "<table border=\"1\" class=\"dataframe\">\n",
       "  <thead>\n",
       "    <tr style=\"text-align: right;\">\n",
       "      <th></th>\n",
       "      <th>minCIK</th>\n",
       "      <th>maxCIK</th>\n",
       "    </tr>\n",
       "    <tr>\n",
       "      <th>docAccNum</th>\n",
       "      <th></th>\n",
       "      <th></th>\n",
       "    </tr>\n",
       "  </thead>\n",
       "  <tbody>\n",
       "    <tr>\n",
       "      <th>0000929638-17-000295</th>\n",
       "      <td>1126530</td>\n",
       "      <td>1694920</td>\n",
       "    </tr>\n",
       "    <tr>\n",
       "      <th>0000929638-17-000314</th>\n",
       "      <td>1126530</td>\n",
       "      <td>1694920</td>\n",
       "    </tr>\n",
       "    <tr>\n",
       "      <th>0000929638-17-000769</th>\n",
       "      <td>1126530</td>\n",
       "      <td>1716665</td>\n",
       "    </tr>\n",
       "    <tr>\n",
       "      <th>0000929638-18-000030</th>\n",
       "      <td>1136586</td>\n",
       "      <td>1725617</td>\n",
       "    </tr>\n",
       "    <tr>\n",
       "      <th>0000929638-18-000815</th>\n",
       "      <td>1126530</td>\n",
       "      <td>1753585</td>\n",
       "    </tr>\n",
       "  </tbody>\n",
       "</table>\n",
       "</div>"
      ],
      "text/plain": [
       "                       minCIK   maxCIK\n",
       "docAccNum                             \n",
       "0000929638-17-000295  1126530  1694920\n",
       "0000929638-17-000314  1126530  1694920\n",
       "0000929638-17-000769  1126530  1716665\n",
       "0000929638-18-000030  1136586  1725617\n",
       "0000929638-18-000815  1126530  1753585"
      ]
     },
     "execution_count": 10,
     "metadata": {},
     "output_type": "execute_result"
    }
   ],
   "source": [
    "mmR = multiR.groupby(\"docAccNum\").CIK.min().todf(nameL=[\"minCIK\"]) \\\n",
    "    .join(multiR.groupby(\"docAccNum\").CIK.max().todf(nameL=[\"maxCIK\"]))\n",
    "print (mmR.shape)\n",
    "mmR.head()"
   ]
  },
  {
   "cell_type": "markdown",
   "metadata": {},
   "source": [
    "<a id=\"function\"></a>\n",
    "##### Is relationship between maxCIK and minCIK a function?\n",
    "Yes! If a CIK is associated with a smaller CIK, there is only one. \n",
    "[top](#top)"
   ]
  },
  {
   "cell_type": "code",
   "execution_count": 11,
   "metadata": {},
   "outputs": [
    {
     "data": {
      "text/html": [
       "<div>\n",
       "<style scoped>\n",
       "    .dataframe tbody tr th:only-of-type {\n",
       "        vertical-align: middle;\n",
       "    }\n",
       "\n",
       "    .dataframe tbody tr th {\n",
       "        vertical-align: top;\n",
       "    }\n",
       "\n",
       "    .dataframe thead th {\n",
       "        text-align: right;\n",
       "    }\n",
       "</style>\n",
       "<table border=\"1\" class=\"dataframe\">\n",
       "  <thead>\n",
       "    <tr style=\"text-align: right;\">\n",
       "      <th></th>\n",
       "      <th>numMinCIK</th>\n",
       "      <th>frequency</th>\n",
       "    </tr>\n",
       "  </thead>\n",
       "  <tbody>\n",
       "    <tr>\n",
       "      <th>0</th>\n",
       "      <td>1</td>\n",
       "      <td>395</td>\n",
       "    </tr>\n",
       "  </tbody>\n",
       "</table>\n",
       "</div>"
      ],
      "text/plain": [
       "   numMinCIK  frequency\n",
       "0          1        395"
      ]
     },
     "execution_count": 11,
     "metadata": {},
     "output_type": "execute_result"
    }
   ],
   "source": [
    "mmR.groupby(\"maxCIK\").minCIK.nunique().todf(nameL=[\"numMinCIK\"]).numMinCIK \\\n",
    "    .value_counts().reset_index().todf(nameL=\"numMinCIK frequency\".split())"
   ]
  },
  {
   "cell_type": "markdown",
   "metadata": {},
   "source": [
    "##### Between minCIK and maxCIK?\n",
    "No. If a CIK is associated with a larger CIK, there could be others. As many as 32!"
   ]
  },
  {
   "cell_type": "code",
   "execution_count": 12,
   "metadata": {},
   "outputs": [
    {
     "data": {
      "text/html": [
       "<div>\n",
       "<style scoped>\n",
       "    .dataframe tbody tr th:only-of-type {\n",
       "        vertical-align: middle;\n",
       "    }\n",
       "\n",
       "    .dataframe tbody tr th {\n",
       "        vertical-align: top;\n",
       "    }\n",
       "\n",
       "    .dataframe thead th {\n",
       "        text-align: right;\n",
       "    }\n",
       "</style>\n",
       "<table border=\"1\" class=\"dataframe\">\n",
       "  <thead>\n",
       "    <tr style=\"text-align: right;\">\n",
       "      <th></th>\n",
       "      <th>numMaxCIK</th>\n",
       "      <th>frequency</th>\n",
       "    </tr>\n",
       "  </thead>\n",
       "  <tbody>\n",
       "    <tr>\n",
       "      <th>0</th>\n",
       "      <td>1</td>\n",
       "      <td>2</td>\n",
       "    </tr>\n",
       "    <tr>\n",
       "      <th>1</th>\n",
       "      <td>2</td>\n",
       "      <td>3</td>\n",
       "    </tr>\n",
       "    <tr>\n",
       "      <th>2</th>\n",
       "      <td>3</td>\n",
       "      <td>3</td>\n",
       "    </tr>\n",
       "    <tr>\n",
       "      <th>3</th>\n",
       "      <td>4</td>\n",
       "      <td>2</td>\n",
       "    </tr>\n",
       "    <tr>\n",
       "      <th>4</th>\n",
       "      <td>5</td>\n",
       "      <td>1</td>\n",
       "    </tr>\n",
       "    <tr>\n",
       "      <th>5</th>\n",
       "      <td>7</td>\n",
       "      <td>4</td>\n",
       "    </tr>\n",
       "    <tr>\n",
       "      <th>6</th>\n",
       "      <td>8</td>\n",
       "      <td>1</td>\n",
       "    </tr>\n",
       "    <tr>\n",
       "      <th>7</th>\n",
       "      <td>9</td>\n",
       "      <td>2</td>\n",
       "    </tr>\n",
       "    <tr>\n",
       "      <th>8</th>\n",
       "      <td>11</td>\n",
       "      <td>2</td>\n",
       "    </tr>\n",
       "    <tr>\n",
       "      <th>9</th>\n",
       "      <td>12</td>\n",
       "      <td>3</td>\n",
       "    </tr>\n",
       "    <tr>\n",
       "      <th>10</th>\n",
       "      <td>13</td>\n",
       "      <td>1</td>\n",
       "    </tr>\n",
       "    <tr>\n",
       "      <th>11</th>\n",
       "      <td>14</td>\n",
       "      <td>1</td>\n",
       "    </tr>\n",
       "    <tr>\n",
       "      <th>12</th>\n",
       "      <td>15</td>\n",
       "      <td>1</td>\n",
       "    </tr>\n",
       "    <tr>\n",
       "      <th>13</th>\n",
       "      <td>16</td>\n",
       "      <td>2</td>\n",
       "    </tr>\n",
       "    <tr>\n",
       "      <th>14</th>\n",
       "      <td>17</td>\n",
       "      <td>1</td>\n",
       "    </tr>\n",
       "    <tr>\n",
       "      <th>15</th>\n",
       "      <td>19</td>\n",
       "      <td>2</td>\n",
       "    </tr>\n",
       "    <tr>\n",
       "      <th>16</th>\n",
       "      <td>20</td>\n",
       "      <td>2</td>\n",
       "    </tr>\n",
       "    <tr>\n",
       "      <th>17</th>\n",
       "      <td>24</td>\n",
       "      <td>1</td>\n",
       "    </tr>\n",
       "    <tr>\n",
       "      <th>18</th>\n",
       "      <td>28</td>\n",
       "      <td>1</td>\n",
       "    </tr>\n",
       "    <tr>\n",
       "      <th>19</th>\n",
       "      <td>32</td>\n",
       "      <td>1</td>\n",
       "    </tr>\n",
       "  </tbody>\n",
       "</table>\n",
       "</div>"
      ],
      "text/plain": [
       "    numMaxCIK  frequency\n",
       "0           1          2\n",
       "1           2          3\n",
       "2           3          3\n",
       "3           4          2\n",
       "4           5          1\n",
       "5           7          4\n",
       "6           8          1\n",
       "7           9          2\n",
       "8          11          2\n",
       "9          12          3\n",
       "10         13          1\n",
       "11         14          1\n",
       "12         15          1\n",
       "13         16          2\n",
       "14         17          1\n",
       "15         19          2\n",
       "16         20          2\n",
       "17         24          1\n",
       "18         28          1\n",
       "19         32          1"
      ]
     },
     "execution_count": 12,
     "metadata": {},
     "output_type": "execute_result"
    }
   ],
   "source": [
    "mmR.groupby(\"minCIK\").maxCIK.nunique().todf(nameL=[\"numMaxCIK\"]).numMaxCIK \\\n",
    "    .value_counts().sort_index().reset_index().todf(nameL=\"numMaxCIK frequency\".split())"
   ]
  },
  {
   "cell_type": "markdown",
   "metadata": {},
   "source": [
    "#### Do these maxCIK ever appear alone\n",
    "Do the maxCIK from the multis ever appear alone in the indexR? Yes. For about half of the Accession Numbers reported by CIK that have multiple CIK, there is only one CIK. Conditional probability can be ard to translate well to English so let's discuss the steps to get this count. \n",
    "1. Obtain the set of all CIK that are the max of a pair with another CIK\n",
    "2. Obtain the set of Accession Number for all the entries with those CIK\n",
    "3. Pull all records for those Accession Numbers\n",
    "4. Get a frequency discribution of the number of CIK\n",
    "\n",
    "[top](#top)"
   ]
  },
  {
   "cell_type": "code",
   "execution_count": 13,
   "metadata": {},
   "outputs": [
    {
     "name": "stdout",
     "output_type": "stream",
     "text": [
      "(395, 2)\n"
     ]
    },
    {
     "data": {
      "text/html": [
       "<div>\n",
       "<style scoped>\n",
       "    .dataframe tbody tr th:only-of-type {\n",
       "        vertical-align: middle;\n",
       "    }\n",
       "\n",
       "    .dataframe tbody tr th {\n",
       "        vertical-align: top;\n",
       "    }\n",
       "\n",
       "    .dataframe thead th {\n",
       "        text-align: right;\n",
       "    }\n",
       "</style>\n",
       "<table border=\"1\" class=\"dataframe\">\n",
       "  <thead>\n",
       "    <tr style=\"text-align: right;\">\n",
       "      <th></th>\n",
       "      <th>maxCIK</th>\n",
       "      <th>minCIK</th>\n",
       "    </tr>\n",
       "  </thead>\n",
       "  <tbody>\n",
       "    <tr>\n",
       "      <th>0</th>\n",
       "      <td>1694920</td>\n",
       "      <td>1126530</td>\n",
       "    </tr>\n",
       "    <tr>\n",
       "      <th>2</th>\n",
       "      <td>1716665</td>\n",
       "      <td>1126530</td>\n",
       "    </tr>\n",
       "    <tr>\n",
       "      <th>3</th>\n",
       "      <td>1725617</td>\n",
       "      <td>1136586</td>\n",
       "    </tr>\n",
       "    <tr>\n",
       "      <th>4</th>\n",
       "      <td>1753585</td>\n",
       "      <td>1126530</td>\n",
       "    </tr>\n",
       "    <tr>\n",
       "      <th>5</th>\n",
       "      <td>1762228</td>\n",
       "      <td>1131131</td>\n",
       "    </tr>\n",
       "  </tbody>\n",
       "</table>\n",
       "</div>"
      ],
      "text/plain": [
       "    maxCIK   minCIK\n",
       "0  1694920  1126530\n",
       "2  1716665  1126530\n",
       "3  1725617  1136586\n",
       "4  1753585  1126530\n",
       "5  1762228  1131131"
      ]
     },
     "execution_count": 13,
     "metadata": {},
     "output_type": "execute_result"
    }
   ],
   "source": [
    "max2minR = mmR.reset_index()[\"maxCIK minCIK\".split()].drop_duplicates(subset=\"maxCIK\")\n",
    "print (max2minR.shape)\n",
    "max2minR.head()"
   ]
  },
  {
   "cell_type": "code",
   "execution_count": 14,
   "metadata": {},
   "outputs": [
    {
     "name": "stdout",
     "output_type": "stream",
     "text": [
      "[395, 9616]\n"
     ]
    },
    {
     "data": {
      "text/plain": [
       "(12881, 10)"
      ]
     },
     "execution_count": 14,
     "metadata": {},
     "output_type": "execute_result"
    }
   ],
   "source": [
    "maxCIKPairedS = set(max2minR.maxCIK) # the set of the maxCIK from the paired\n",
    "fromMaxAccS = set(indexR.query(\"CIK in @maxCIKPairedS\").docAccNum) # doc acc num for those cik\n",
    "print (list(map(len, (maxCIKPairedS, fromMaxAccS))))\n",
    "fromMaxR = indexR.query(\"docAccNum in @fromMaxAccS\") \\\n",
    "    .set_index(\"docAccNum\").join(countR) # corresponding df and counts\n",
    "fromMaxR.shape"
   ]
  },
  {
   "cell_type": "code",
   "execution_count": 15,
   "metadata": {},
   "outputs": [
    {
     "data": {
      "text/plain": [
       "2    6530\n",
       "1    6351\n",
       "Name: numCIK, dtype: int64"
      ]
     },
     "execution_count": 15,
     "metadata": {},
     "output_type": "execute_result"
    }
   ],
   "source": [
    "fromMaxR.numCIK.value_counts()"
   ]
  },
  {
   "cell_type": "markdown",
   "metadata": {},
   "source": [
    "#### The smaller CIK does not report as often as the larger\n",
    "For CIK that are associated with a smaller CIK, about half the time they report alone and about half with the lower CIK. Let's look at an example. First a list of a few entries where the Accession Number has only one CIK. The names look like one of the portfolio names, as we would expect. "
   ]
  },
  {
   "cell_type": "code",
   "execution_count": 16,
   "metadata": {},
   "outputs": [
    {
     "data": {
      "text/html": [
       "<div>\n",
       "<style scoped>\n",
       "    .dataframe tbody tr th:only-of-type {\n",
       "        vertical-align: middle;\n",
       "    }\n",
       "\n",
       "    .dataframe tbody tr th {\n",
       "        vertical-align: top;\n",
       "    }\n",
       "\n",
       "    .dataframe thead th {\n",
       "        text-align: right;\n",
       "    }\n",
       "</style>\n",
       "<table border=\"1\" class=\"dataframe\">\n",
       "  <thead>\n",
       "    <tr style=\"text-align: right;\">\n",
       "      <th></th>\n",
       "      <th>FormType</th>\n",
       "      <th>CompanyName</th>\n",
       "      <th>CIK</th>\n",
       "      <th>DateFiled</th>\n",
       "      <th>FileName</th>\n",
       "      <th>yearFiled</th>\n",
       "      <th>isABSee</th>\n",
       "      <th>monthFiled</th>\n",
       "      <th>numFiles</th>\n",
       "      <th>numCIK</th>\n",
       "    </tr>\n",
       "    <tr>\n",
       "      <th>docAccNum</th>\n",
       "      <th></th>\n",
       "      <th></th>\n",
       "      <th></th>\n",
       "      <th></th>\n",
       "      <th></th>\n",
       "      <th></th>\n",
       "      <th></th>\n",
       "      <th></th>\n",
       "      <th></th>\n",
       "      <th></th>\n",
       "    </tr>\n",
       "  </thead>\n",
       "  <tbody>\n",
       "    <tr>\n",
       "      <th>0001056404-17-000033</th>\n",
       "      <td>ABS-EE</td>\n",
       "      <td>CFCRE 2016-C7 Mortgage Trust</td>\n",
       "      <td>1690110</td>\n",
       "      <td>2017-01-25</td>\n",
       "      <td>edgar/data/1690110/0001056404-17-000033.txt</td>\n",
       "      <td>2017</td>\n",
       "      <td>1</td>\n",
       "      <td>1</td>\n",
       "      <td>1</td>\n",
       "      <td>1</td>\n",
       "    </tr>\n",
       "    <tr>\n",
       "      <th>0001056404-17-000042</th>\n",
       "      <td>ABS-EE</td>\n",
       "      <td>JPMCC Commercial Mortgage Securities Trust 201...</td>\n",
       "      <td>1689111</td>\n",
       "      <td>2017-01-26</td>\n",
       "      <td>edgar/data/1689111/0001056404-17-000042.txt</td>\n",
       "      <td>2017</td>\n",
       "      <td>1</td>\n",
       "      <td>1</td>\n",
       "      <td>1</td>\n",
       "      <td>1</td>\n",
       "    </tr>\n",
       "    <tr>\n",
       "      <th>0000950131-17-000002</th>\n",
       "      <td>ABS-EE</td>\n",
       "      <td>CITIGROUP COMMERCIAL MORTGAGE TRUST 2016-P6</td>\n",
       "      <td>1690255</td>\n",
       "      <td>2017-01-27</td>\n",
       "      <td>edgar/data/1690255/0000950131-17-000002.txt</td>\n",
       "      <td>2017</td>\n",
       "      <td>1</td>\n",
       "      <td>1</td>\n",
       "      <td>1</td>\n",
       "      <td>1</td>\n",
       "    </tr>\n",
       "  </tbody>\n",
       "</table>\n",
       "</div>"
      ],
      "text/plain": [
       "                     FormType  \\\n",
       "docAccNum                       \n",
       "0001056404-17-000033   ABS-EE   \n",
       "0001056404-17-000042   ABS-EE   \n",
       "0000950131-17-000002   ABS-EE   \n",
       "\n",
       "                                                            CompanyName  \\\n",
       "docAccNum                                                                 \n",
       "0001056404-17-000033                       CFCRE 2016-C7 Mortgage Trust   \n",
       "0001056404-17-000042  JPMCC Commercial Mortgage Securities Trust 201...   \n",
       "0000950131-17-000002        CITIGROUP COMMERCIAL MORTGAGE TRUST 2016-P6   \n",
       "\n",
       "                          CIK   DateFiled  \\\n",
       "docAccNum                                   \n",
       "0001056404-17-000033  1690110  2017-01-25   \n",
       "0001056404-17-000042  1689111  2017-01-26   \n",
       "0000950131-17-000002  1690255  2017-01-27   \n",
       "\n",
       "                                                         FileName  yearFiled  \\\n",
       "docAccNum                                                                      \n",
       "0001056404-17-000033  edgar/data/1690110/0001056404-17-000033.txt       2017   \n",
       "0001056404-17-000042  edgar/data/1689111/0001056404-17-000042.txt       2017   \n",
       "0000950131-17-000002  edgar/data/1690255/0000950131-17-000002.txt       2017   \n",
       "\n",
       "                      isABSee  monthFiled  numFiles  numCIK  \n",
       "docAccNum                                                    \n",
       "0001056404-17-000033        1           1         1       1  \n",
       "0001056404-17-000042        1           1         1       1  \n",
       "0000950131-17-000002        1           1         1       1  "
      ]
     },
     "execution_count": 16,
     "metadata": {},
     "output_type": "execute_result"
    }
   ],
   "source": [
    "fromMaxR.query(\"numCIK == 1\").sort_values(\"DateFiled CIK\".split()).head(3)"
   ]
  },
  {
   "cell_type": "markdown",
   "metadata": {},
   "source": [
    "#### A Few Examples\n",
    "The lower CIK typically reports just once. Below we show three examples. Just the top few lines will print here in the notebook, but the full listing for these three will be saved in a [spreadsheet](https://drive.google.com/file/d/1qRuqEnE7E3oJjMykNKqzGKlxgcwm9juw/view?usp=sharing)."
   ]
  },
  {
   "cell_type": "code",
   "execution_count": 17,
   "metadata": {},
   "outputs": [],
   "source": [
    "wb = pd.ExcelWriter(\"cikGroupExamples.xlsx\")"
   ]
  },
  {
   "cell_type": "code",
   "execution_count": 18,
   "metadata": {},
   "outputs": [
    {
     "name": "stdout",
     "output_type": "stream",
     "text": [
      "47\n",
      "(48, 8)\n"
     ]
    },
    {
     "data": {
      "text/html": [
       "<div>\n",
       "<style scoped>\n",
       "    .dataframe tbody tr th:only-of-type {\n",
       "        vertical-align: middle;\n",
       "    }\n",
       "\n",
       "    .dataframe tbody tr th {\n",
       "        vertical-align: top;\n",
       "    }\n",
       "\n",
       "    .dataframe thead th {\n",
       "        text-align: right;\n",
       "    }\n",
       "</style>\n",
       "<table border=\"1\" class=\"dataframe\">\n",
       "  <thead>\n",
       "    <tr style=\"text-align: right;\">\n",
       "      <th></th>\n",
       "      <th>FormType</th>\n",
       "      <th>CompanyName</th>\n",
       "      <th>CIK</th>\n",
       "      <th>DateFiled</th>\n",
       "      <th>FileName</th>\n",
       "      <th>yearFiled</th>\n",
       "      <th>isABSee</th>\n",
       "      <th>monthFiled</th>\n",
       "    </tr>\n",
       "    <tr>\n",
       "      <th>docAccNum</th>\n",
       "      <th></th>\n",
       "      <th></th>\n",
       "      <th></th>\n",
       "      <th></th>\n",
       "      <th></th>\n",
       "      <th></th>\n",
       "      <th></th>\n",
       "      <th></th>\n",
       "    </tr>\n",
       "  </thead>\n",
       "  <tbody>\n",
       "    <tr>\n",
       "      <th>0001539497-16-004174</th>\n",
       "      <td>ABS-EE</td>\n",
       "      <td>CCRE Commercial Mortgage Securities, L.P.</td>\n",
       "      <td>1515166</td>\n",
       "      <td>2016-11-30</td>\n",
       "      <td>edgar/data/1515166/0001539497-16-004174.txt</td>\n",
       "      <td>2016</td>\n",
       "      <td>1</td>\n",
       "      <td>11</td>\n",
       "    </tr>\n",
       "    <tr>\n",
       "      <th>0001539497-16-004174</th>\n",
       "      <td>ABS-EE</td>\n",
       "      <td>CFCRE 2016-C7 Mortgage Trust</td>\n",
       "      <td>1690110</td>\n",
       "      <td>2016-11-30</td>\n",
       "      <td>edgar/data/1690110/0001539497-16-004174.txt</td>\n",
       "      <td>2016</td>\n",
       "      <td>1</td>\n",
       "      <td>11</td>\n",
       "    </tr>\n",
       "    <tr>\n",
       "      <th>0001056404-17-000033</th>\n",
       "      <td>ABS-EE</td>\n",
       "      <td>CFCRE 2016-C7 Mortgage Trust</td>\n",
       "      <td>1690110</td>\n",
       "      <td>2017-01-25</td>\n",
       "      <td>edgar/data/1690110/0001056404-17-000033.txt</td>\n",
       "      <td>2017</td>\n",
       "      <td>1</td>\n",
       "      <td>1</td>\n",
       "    </tr>\n",
       "  </tbody>\n",
       "</table>\n",
       "</div>"
      ],
      "text/plain": [
       "                     FormType                                CompanyName  \\\n",
       "docAccNum                                                                  \n",
       "0001539497-16-004174   ABS-EE  CCRE Commercial Mortgage Securities, L.P.   \n",
       "0001539497-16-004174   ABS-EE               CFCRE 2016-C7 Mortgage Trust   \n",
       "0001056404-17-000033   ABS-EE               CFCRE 2016-C7 Mortgage Trust   \n",
       "\n",
       "                          CIK   DateFiled  \\\n",
       "docAccNum                                   \n",
       "0001539497-16-004174  1515166  2016-11-30   \n",
       "0001539497-16-004174  1690110  2016-11-30   \n",
       "0001056404-17-000033  1690110  2017-01-25   \n",
       "\n",
       "                                                         FileName  yearFiled  \\\n",
       "docAccNum                                                                      \n",
       "0001539497-16-004174  edgar/data/1515166/0001539497-16-004174.txt       2016   \n",
       "0001539497-16-004174  edgar/data/1690110/0001539497-16-004174.txt       2016   \n",
       "0001056404-17-000033  edgar/data/1690110/0001056404-17-000033.txt       2017   \n",
       "\n",
       "                      isABSee  monthFiled  \n",
       "docAccNum                                  \n",
       "0001539497-16-004174        1          11  \n",
       "0001539497-16-004174        1          11  \n",
       "0001056404-17-000033        1           1  "
      ]
     },
     "execution_count": 18,
     "metadata": {},
     "output_type": "execute_result"
    }
   ],
   "source": [
    "firstCIK = fromMaxR.query(\"numCIK == 1\").sort_values(\"DateFiled CIK\".split()).iloc[0].CIK # first row above CIK\n",
    "accNumS = set(fromMaxR.query(\"CIK == @firstCIK\").index) # associated accNum\n",
    "print (len(accNumS))\n",
    "exampleR = indexR.query(\"docAccNum in @accNumS\") \\\n",
    "    .sort_values(\"DateFiled docAccNum CIK\".split()).set_index(\"docAccNum\")\n",
    "print (exampleR.shape)\n",
    "exampleR.to_excel(wb, sheet_name=\"%d\" %(firstCIK))\n",
    "exampleR.head(3)"
   ]
  },
  {
   "cell_type": "code",
   "execution_count": 19,
   "metadata": {},
   "outputs": [
    {
     "name": "stdout",
     "output_type": "stream",
     "text": [
      "48\n",
      "(50, 9)\n"
     ]
    },
    {
     "data": {
      "text/html": [
       "<div>\n",
       "<style scoped>\n",
       "    .dataframe tbody tr th:only-of-type {\n",
       "        vertical-align: middle;\n",
       "    }\n",
       "\n",
       "    .dataframe tbody tr th {\n",
       "        vertical-align: top;\n",
       "    }\n",
       "\n",
       "    .dataframe thead th {\n",
       "        text-align: right;\n",
       "    }\n",
       "</style>\n",
       "<table border=\"1\" class=\"dataframe\">\n",
       "  <thead>\n",
       "    <tr style=\"text-align: right;\">\n",
       "      <th></th>\n",
       "      <th>FormType</th>\n",
       "      <th>CompanyName</th>\n",
       "      <th>CIK</th>\n",
       "      <th>DateFiled</th>\n",
       "      <th>FileName</th>\n",
       "      <th>yearFiled</th>\n",
       "      <th>isABSee</th>\n",
       "      <th>monthFiled</th>\n",
       "      <th>docAccNum</th>\n",
       "    </tr>\n",
       "  </thead>\n",
       "  <tbody>\n",
       "    <tr>\n",
       "      <th>7413</th>\n",
       "      <td>ABS-EE</td>\n",
       "      <td>JP MORGAN CHASE COMMERCIAL MORTGAGE SECURITIES...</td>\n",
       "      <td>1013611</td>\n",
       "      <td>2016-11-29</td>\n",
       "      <td>edgar/data/1013611/0001539497-16-004112.txt</td>\n",
       "      <td>2016</td>\n",
       "      <td>1</td>\n",
       "      <td>11</td>\n",
       "      <td>0001539497-16-004112</td>\n",
       "    </tr>\n",
       "    <tr>\n",
       "      <th>7439</th>\n",
       "      <td>ABS-EE</td>\n",
       "      <td>JPMCC Commercial Mortgage Securities Trust 201...</td>\n",
       "      <td>1689111</td>\n",
       "      <td>2016-11-29</td>\n",
       "      <td>edgar/data/1689111/0001539497-16-004112.txt</td>\n",
       "      <td>2016</td>\n",
       "      <td>1</td>\n",
       "      <td>11</td>\n",
       "      <td>0001539497-16-004112</td>\n",
       "    </tr>\n",
       "    <tr>\n",
       "      <th>7414</th>\n",
       "      <td>ABS-EE/A</td>\n",
       "      <td>JP MORGAN CHASE COMMERCIAL MORTGAGE SECURITIES...</td>\n",
       "      <td>1013611</td>\n",
       "      <td>2016-12-21</td>\n",
       "      <td>edgar/data/1013611/0001539497-16-004367.txt</td>\n",
       "      <td>2016</td>\n",
       "      <td>1</td>\n",
       "      <td>12</td>\n",
       "      <td>0001539497-16-004367</td>\n",
       "    </tr>\n",
       "    <tr>\n",
       "      <th>7440</th>\n",
       "      <td>ABS-EE/A</td>\n",
       "      <td>JPMCC Commercial Mortgage Securities Trust 201...</td>\n",
       "      <td>1689111</td>\n",
       "      <td>2016-12-21</td>\n",
       "      <td>edgar/data/1689111/0001539497-16-004367.txt</td>\n",
       "      <td>2016</td>\n",
       "      <td>1</td>\n",
       "      <td>12</td>\n",
       "      <td>0001539497-16-004367</td>\n",
       "    </tr>\n",
       "    <tr>\n",
       "      <th>7441</th>\n",
       "      <td>ABS-EE</td>\n",
       "      <td>JPMCC Commercial Mortgage Securities Trust 201...</td>\n",
       "      <td>1689111</td>\n",
       "      <td>2017-01-26</td>\n",
       "      <td>edgar/data/1689111/0001056404-17-000042.txt</td>\n",
       "      <td>2017</td>\n",
       "      <td>1</td>\n",
       "      <td>1</td>\n",
       "      <td>0001056404-17-000042</td>\n",
       "    </tr>\n",
       "  </tbody>\n",
       "</table>\n",
       "</div>"
      ],
      "text/plain": [
       "      FormType                                        CompanyName      CIK  \\\n",
       "7413    ABS-EE  JP MORGAN CHASE COMMERCIAL MORTGAGE SECURITIES...  1013611   \n",
       "7439    ABS-EE  JPMCC Commercial Mortgage Securities Trust 201...  1689111   \n",
       "7414  ABS-EE/A  JP MORGAN CHASE COMMERCIAL MORTGAGE SECURITIES...  1013611   \n",
       "7440  ABS-EE/A  JPMCC Commercial Mortgage Securities Trust 201...  1689111   \n",
       "7441    ABS-EE  JPMCC Commercial Mortgage Securities Trust 201...  1689111   \n",
       "\n",
       "       DateFiled                                     FileName  yearFiled  \\\n",
       "7413  2016-11-29  edgar/data/1013611/0001539497-16-004112.txt       2016   \n",
       "7439  2016-11-29  edgar/data/1689111/0001539497-16-004112.txt       2016   \n",
       "7414  2016-12-21  edgar/data/1013611/0001539497-16-004367.txt       2016   \n",
       "7440  2016-12-21  edgar/data/1689111/0001539497-16-004367.txt       2016   \n",
       "7441  2017-01-26  edgar/data/1689111/0001056404-17-000042.txt       2017   \n",
       "\n",
       "      isABSee  monthFiled             docAccNum  \n",
       "7413        1          11  0001539497-16-004112  \n",
       "7439        1          11  0001539497-16-004112  \n",
       "7414        1          12  0001539497-16-004367  \n",
       "7440        1          12  0001539497-16-004367  \n",
       "7441        1           1  0001056404-17-000042  "
      ]
     },
     "execution_count": 19,
     "metadata": {},
     "output_type": "execute_result"
    }
   ],
   "source": [
    "firstCIK = fromMaxR.query(\"numCIK == 1\").sort_values(\"DateFiled CIK\".split()).iloc[1].CIK # second row above CIK\n",
    "accNumS = set(fromMaxR.query(\"CIK == @firstCIK\").index) # associated accNum\n",
    "print (len(accNumS))\n",
    "exampleR = indexR.query(\"docAccNum in @accNumS\").sort_values(\"DateFiled docAccNum CIK\".split())\n",
    "exampleR.to_excel(wb, sheet_name=\"%d\" %(firstCIK))\n",
    "print (exampleR.shape)\n",
    "exampleR.head()"
   ]
  },
  {
   "cell_type": "code",
   "execution_count": 20,
   "metadata": {},
   "outputs": [
    {
     "name": "stdout",
     "output_type": "stream",
     "text": [
      "3\n",
      "(5, 9)\n"
     ]
    },
    {
     "data": {
      "text/html": [
       "<div>\n",
       "<style scoped>\n",
       "    .dataframe tbody tr th:only-of-type {\n",
       "        vertical-align: middle;\n",
       "    }\n",
       "\n",
       "    .dataframe tbody tr th {\n",
       "        vertical-align: top;\n",
       "    }\n",
       "\n",
       "    .dataframe thead th {\n",
       "        text-align: right;\n",
       "    }\n",
       "</style>\n",
       "<table border=\"1\" class=\"dataframe\">\n",
       "  <thead>\n",
       "    <tr style=\"text-align: right;\">\n",
       "      <th></th>\n",
       "      <th>FormType</th>\n",
       "      <th>CompanyName</th>\n",
       "      <th>CIK</th>\n",
       "      <th>DateFiled</th>\n",
       "      <th>FileName</th>\n",
       "      <th>yearFiled</th>\n",
       "      <th>isABSee</th>\n",
       "      <th>monthFiled</th>\n",
       "      <th>docAccNum</th>\n",
       "    </tr>\n",
       "  </thead>\n",
       "  <tbody>\n",
       "    <tr>\n",
       "      <th>11473</th>\n",
       "      <td>ABS-EE</td>\n",
       "      <td>WELLS FARGO COMMERCIAL MORTGAGE SECURITIES INC</td>\n",
       "      <td>850779</td>\n",
       "      <td>2020-09-16</td>\n",
       "      <td>edgar/data/850779/0001539497-20-001187.txt</td>\n",
       "      <td>2020</td>\n",
       "      <td>1</td>\n",
       "      <td>9</td>\n",
       "      <td>0001539497-20-001187</td>\n",
       "    </tr>\n",
       "    <tr>\n",
       "      <th>2024</th>\n",
       "      <td>ABS-EE</td>\n",
       "      <td>BANK 2020-BNK28</td>\n",
       "      <td>1822166</td>\n",
       "      <td>2020-09-16</td>\n",
       "      <td>edgar/data/1822166/0001539497-20-001187.txt</td>\n",
       "      <td>2020</td>\n",
       "      <td>1</td>\n",
       "      <td>9</td>\n",
       "      <td>0001539497-20-001187</td>\n",
       "    </tr>\n",
       "    <tr>\n",
       "      <th>11474</th>\n",
       "      <td>ABS-EE/A</td>\n",
       "      <td>WELLS FARGO COMMERCIAL MORTGAGE SECURITIES INC</td>\n",
       "      <td>850779</td>\n",
       "      <td>2020-09-30</td>\n",
       "      <td>edgar/data/850779/0001539497-20-001221.txt</td>\n",
       "      <td>2020</td>\n",
       "      <td>1</td>\n",
       "      <td>9</td>\n",
       "      <td>0001539497-20-001221</td>\n",
       "    </tr>\n",
       "    <tr>\n",
       "      <th>2025</th>\n",
       "      <td>ABS-EE/A</td>\n",
       "      <td>BANK 2020-BNK28</td>\n",
       "      <td>1822166</td>\n",
       "      <td>2020-09-30</td>\n",
       "      <td>edgar/data/1822166/0001539497-20-001221.txt</td>\n",
       "      <td>2020</td>\n",
       "      <td>1</td>\n",
       "      <td>9</td>\n",
       "      <td>0001539497-20-001221</td>\n",
       "    </tr>\n",
       "    <tr>\n",
       "      <th>2026</th>\n",
       "      <td>ABS-EE</td>\n",
       "      <td>BANK 2020-BNK28</td>\n",
       "      <td>1822166</td>\n",
       "      <td>2020-11-02</td>\n",
       "      <td>edgar/data/1822166/0001056404-20-011782.txt</td>\n",
       "      <td>2020</td>\n",
       "      <td>1</td>\n",
       "      <td>11</td>\n",
       "      <td>0001056404-20-011782</td>\n",
       "    </tr>\n",
       "  </tbody>\n",
       "</table>\n",
       "</div>"
      ],
      "text/plain": [
       "       FormType                                     CompanyName      CIK  \\\n",
       "11473    ABS-EE  WELLS FARGO COMMERCIAL MORTGAGE SECURITIES INC   850779   \n",
       "2024     ABS-EE                                 BANK 2020-BNK28  1822166   \n",
       "11474  ABS-EE/A  WELLS FARGO COMMERCIAL MORTGAGE SECURITIES INC   850779   \n",
       "2025   ABS-EE/A                                 BANK 2020-BNK28  1822166   \n",
       "2026     ABS-EE                                 BANK 2020-BNK28  1822166   \n",
       "\n",
       "        DateFiled                                     FileName  yearFiled  \\\n",
       "11473  2020-09-16   edgar/data/850779/0001539497-20-001187.txt       2020   \n",
       "2024   2020-09-16  edgar/data/1822166/0001539497-20-001187.txt       2020   \n",
       "11474  2020-09-30   edgar/data/850779/0001539497-20-001221.txt       2020   \n",
       "2025   2020-09-30  edgar/data/1822166/0001539497-20-001221.txt       2020   \n",
       "2026   2020-11-02  edgar/data/1822166/0001056404-20-011782.txt       2020   \n",
       "\n",
       "       isABSee  monthFiled             docAccNum  \n",
       "11473        1           9  0001539497-20-001187  \n",
       "2024         1           9  0001539497-20-001187  \n",
       "11474        1           9  0001539497-20-001221  \n",
       "2025         1           9  0001539497-20-001221  \n",
       "2026         1          11  0001056404-20-011782  "
      ]
     },
     "execution_count": 20,
     "metadata": {},
     "output_type": "execute_result"
    }
   ],
   "source": [
    "firstCIK = fromMaxR.query(\"numCIK == 1\").sort_values(\"DateFiled CIK\".split()).iloc[-1].CIK # last pair, unpair\n",
    "accNumS = set(fromMaxR.query(\"CIK == @firstCIK\").index) # associated accNum\n",
    "print (len(accNumS))\n",
    "exampleR = indexR.query(\"docAccNum in @accNumS\").sort_values(\"DateFiled docAccNum CIK\".split())\n",
    "exampleR.to_excel(wb, sheet_name=\"%d\" %(firstCIK))\n",
    "print (exampleR.shape)\n",
    "exampleR.head()"
   ]
  },
  {
   "cell_type": "code",
   "execution_count": 21,
   "metadata": {},
   "outputs": [],
   "source": [
    "wb.close()"
   ]
  },
  {
   "cell_type": "code",
   "execution_count": 22,
   "metadata": {},
   "outputs": [
    {
     "data": {
      "text/plain": [
       "'/Users/jcl/dev/edgar'"
      ]
     },
     "execution_count": 22,
     "metadata": {},
     "output_type": "execute_result"
    }
   ],
   "source": [
    "pwd"
   ]
  },
  {
   "cell_type": "markdown",
   "metadata": {},
   "source": [
    "<a id=\"filter\"></a>\n",
    "### Filtering\n",
    "Now that the situation is clear, there are two things we need to simplify the index\n",
    "1. The function relating maxCIK to their minCIK, which we can get easily from the table developed in the section where we reviewed the [relation](#relation). \n",
    "2. The filtered index with the minCIK removed. \n",
    "\n",
    "First the function. This is simple.\n",
    "\n",
    "[top](top)"
   ]
  },
  {
   "cell_type": "code",
   "execution_count": 23,
   "metadata": {},
   "outputs": [
    {
     "data": {
      "text/plain": [
       "(395, 2)"
      ]
     },
     "execution_count": 23,
     "metadata": {},
     "output_type": "execute_result"
    }
   ],
   "source": [
    "functionR = mmR.groupby(\"maxCIK\").head(1)[\"maxCIK minCIK\".split()] # tail(1) would have worked too\n",
    "functionR.shape"
   ]
  },
  {
   "cell_type": "markdown",
   "metadata": {},
   "source": [
    "#### Partition to filter\n",
    "To filter let's \n",
    "1. Ideltify all records belonging to maxCIK, and set those aside in maxIndR\n",
    "2. Remove from the indexR all docAccNum in maxIndR and put in soloIndR\n",
    "3. Concatenate maxIndR and soloIndR for the filtIndR\n",
    "We save a [workbook](https://drive.google.com/file/d/1ZN0RHDjSZUeiW7lRsWi_CIkLYjmr0juh/view?usp=sharing) with the unfiltered, max2min function, maxInd, soloInd, and filtInd as examples. \n",
    "[top](#top)"
   ]
  },
  {
   "cell_type": "code",
   "execution_count": 24,
   "metadata": {},
   "outputs": [
    {
     "data": {
      "text/plain": [
       "(9616, 8)"
      ]
     },
     "execution_count": 24,
     "metadata": {},
     "output_type": "execute_result"
    }
   ],
   "source": [
    "maxIndR = indexR.query(\"CIK in @functionR.maxCIK\").set_index(\"docAccNum\")\n",
    "maxIndR.shape"
   ]
  },
  {
   "cell_type": "code",
   "execution_count": 25,
   "metadata": {},
   "outputs": [
    {
     "data": {
      "text/plain": [
       "(100, 8)"
      ]
     },
     "execution_count": 25,
     "metadata": {},
     "output_type": "execute_result"
    }
   ],
   "source": [
    "soloIndR = indexR.query(\"docAccNum not in @maxIndR.index\").set_index(\"docAccNum\")\n",
    "soloIndR.shape"
   ]
  },
  {
   "cell_type": "code",
   "execution_count": 26,
   "metadata": {},
   "outputs": [
    {
     "data": {
      "text/plain": [
       "(9716, 8)"
      ]
     },
     "execution_count": 26,
     "metadata": {},
     "output_type": "execute_result"
    }
   ],
   "source": [
    "filtIndR = pd.concat((maxIndR, soloIndR)).sort_index()\n",
    "filtIndR.shape"
   ]
  },
  {
   "cell_type": "code",
   "execution_count": 27,
   "metadata": {},
   "outputs": [],
   "source": [
    "wb = pd.ExcelWriter(\"absEEindex.filtered.xlsx\")\n",
    "indexR.to_excel(wb, sheet_name=\"unfiltered\", index=False)\n",
    "functionR.to_excel(wb, sheet_name=\"max2min\")\n",
    "maxIndR.to_excel(wb, sheet_name=\"maxInd\")\n",
    "soloIndR.to_excel(wb, sheet_name=\"soloInd\")\n",
    "filtIndR.to_excel(wb, sheet_name=\"filtInd\")\n",
    "wb.close()"
   ]
  },
  {
   "cell_type": "markdown",
   "metadata": {},
   "source": [
    "#### End\n",
    "[top](#top)"
   ]
  }
 ],
 "metadata": {
  "kernelspec": {
   "display_name": "Python 3",
   "language": "python",
   "name": "python3"
  },
  "language_info": {
   "codemirror_mode": {
    "name": "ipython",
    "version": 3
   },
   "file_extension": ".py",
   "mimetype": "text/x-python",
   "name": "python",
   "nbconvert_exporter": "python",
   "pygments_lexer": "ipython3",
   "version": "3.8.5"
  }
 },
 "nbformat": 4,
 "nbformat_minor": 4
}
