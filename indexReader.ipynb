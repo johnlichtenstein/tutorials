{
 "cells": [
  {
   "cell_type": "markdown",
   "metadata": {},
   "source": [
    "<a id=\"top\"></a>\n",
    "## Reading Edgar with Python\n",
    "2020-09-21\n",
    "\n",
    "[EDGAR](https://www.sec.gov/edgar.shtml) is the repository for filings from publicly reporting companies. There are search pages that provide a facility for browser users to find filings, but the responses are high-tech stuff I don't know how to read except with a browser. Fortunately, filings are listed in archives with names like \"/\".join(('www.sec.gov', 'Archives', 'edgar', 'full-index', '<i>%Y</i>', 'QTR<i>%d</i>' %(quarter), 'form.gz')). Starting with 1994. It's simple to grab those archives and then search those user friendly gzipped text files. \n",
    "\n",
    "We start by saving a local copy of all the form.gz in a directory formIndex/.\n",
    "\n",
    "One minor monkey wrench is that when the index gives a not quite correct name, but the hint is close enough that we can fix it. \n",
    "- index says: edgar/data/1821685/0001104659-20-101638.txt\n",
    "- should be : edgar/data/0001821685/000110465920101638/0001104659-20-101638.txt\n",
    "\n",
    "We read one file from the index to prove we have it right. "
   ]
  },
  {
   "cell_type": "code",
   "execution_count": 1,
   "metadata": {},
   "outputs": [],
   "source": [
    "import pandas as pd\n",
    "import requests\n",
    "from gzip import GzipFile as gz \n",
    "import os\n",
    "import shutil\n",
    "from datetime import datetime as dt\n",
    "from matplotlib import pyplot as plt"
   ]
  },
  {
   "cell_type": "code",
   "execution_count": 2,
   "metadata": {},
   "outputs": [
    {
     "name": "stdout",
     "output_type": "stream",
     "text": [
      "skipping https://www.sec.gov/Archives/edgar/full-index/2020/QTR4/form.gz with length 243\n"
     ]
    }
   ],
   "source": [
    "IDXPATH = \"formIndex\" # local directory name\n",
    "fntS = \"forms{year}Q{q}.txt.gz\"  # name for local copies\n",
    "\n",
    "for year in range(1994, 1 + dt.now().year):\n",
    "    for Q in range(1, 5):\n",
    "        shortS = \"/\".join(('www.sec.gov', 'Archives', 'edgar', 'full-index', \"%d\" %(year) \\\n",
    "                           , 'QTR%d' %(Q), 'form.gz'))\n",
    "        pathS = \"\".join((\"https://\", shortS))\n",
    "        try:\n",
    "            req = requests.get(pathS, allow_redirects=True, stream=True)\n",
    "            hs = int(req.headers.get('content-length'))\n",
    "        except:\n",
    "            hs = -1\n",
    "            \n",
    "        if hs < 260:\n",
    "            print (\"skipping\",  pathS, \"with length\", hs) # because nothing good can be that small\n",
    "        else:\n",
    "            otF = open(os.path.join(IDXPATH, fntS.format(year=year, q=Q)), \"wb\")\n",
    "            shutil.copyfileobj(req.raw, otF)\n",
    "            req.close()\n",
    "            otF.close()"
   ]
  },
  {
   "cell_type": "markdown",
   "metadata": {},
   "source": [
    "### Looking at the top of one of the files"
   ]
  },
  {
   "cell_type": "code",
   "execution_count": 3,
   "metadata": {},
   "outputs": [
    {
     "name": "stdout",
     "output_type": "stream",
     "text": [
      "b'Description:           Master Index of EDGAR Dissemination Feed by Form Type'\n",
      "b'Last Data Received:    March 31, 1994'\n",
      "b'Comments:              webmaster@sec.gov'\n",
      "b'Anonymous FTP:         ftp://ftp.sec.gov/edgar/'\n",
      "b' '\n",
      "b' '\n",
      "b' '\n",
      "b' '\n",
      "b'Form Type   Company Name                                                  CIK         Date Filed  File Name'\n",
      "b'---------------------------------------------------------------------------------------------------------------------------------------------'\n",
      "b'10-12B      MICRO SECURITY SYSTEMS INC                                    736469      1994-02-11  edgar/data/736469/0000736469-94-000001.txt          '\n",
      "b'10-12B/A    SCOTSMAN INDUSTRIES INC                                       846660      1994-01-27  edgar/data/846660/0000950124-94-000188.txt          '\n",
      "b'10-C        ADELPHIA COMMUNICATIONS CORP                                  796486      1994-01-18  edgar/data/796486/0000950132-94-000013.txt          '\n",
      "b'10-C        BANC ONE CORP/OH/                                             36090       1994-03-04  edgar/data/36090/0000036090-94-000048.txt           '\n",
      "b'10-C        BURNUP & SIMS INC                                             15615       1994-03-18  edgar/data/15615/0000015615-94-000008.txt           '\n"
     ]
    }
   ],
   "source": [
    "inF = gz(os.path.join(IDXPATH, fntS.format(year=1994, q=1)))\n",
    "maxLines = 15\n",
    "lines = 0\n",
    "for line in inF:\n",
    "    lines += 1\n",
    "    if lines > maxLines:\n",
    "        break\n",
    "    print (line[:-1])"
   ]
  },
  {
   "cell_type": "markdown",
   "metadata": {},
   "source": [
    "#### Data Format \n",
    "The text is Fixed Format rather than delimited. In case the start position ever changes, we look for the start positions each time. Below a function to convert a file to a DF. It turns out the starting locations never change, but just in case. "
   ]
  },
  {
   "cell_type": "code",
   "execution_count": 4,
   "metadata": {},
   "outputs": [],
   "source": [
    "def formDf2DF(infn, verbose=False):\n",
    "    \"\"\"\n",
    "    read gzipped format index and return DF\n",
    "    ignore data before \"Form Type\"\n",
    "    use first row to find statrpos for \n",
    "        FormType\n",
    "        CompanyName\n",
    "        CIK\n",
    "        DateFiled\n",
    "        FileName\n",
    "    \"\"\"\n",
    "    try:\n",
    "        inF = gz(infn)\n",
    "    except:\n",
    "        print (\"could not open gzipped file %s\" %(infn))\n",
    "        return 1\n",
    "    \n",
    "    tD = {x: [] for x in \"FormType CompanyName CIK DateFiled FileName\".split()} # data\n",
    "    rD = {x: () for x in \"FormType CompanyName CIK DateFiled FileName\".split()} # location\n",
    "\n",
    "    using = False\n",
    "    for line in inF:\n",
    "        try:\n",
    "            ld = line.decode()[:-1]\n",
    "        except:\n",
    "            ld = line.decode(\"ISO-8859-2\")[:-1]\n",
    "        \n",
    "        if ld[:4] == \"Form\":\n",
    "            # look for startpos\n",
    "            rD[\"FormType\"] = (0, ld.index(\"Company\"))\n",
    "            rD[\"CompanyName\"] = (ld.index(\"Company\"), ld.index(\"CIK\"))\n",
    "            rD[\"CIK\"] = (ld.index(\"CIK\"), ld.index(\"Date\"))\n",
    "            rD[\"DateFiled\"] = (ld.index(\"Date\"), ld.index(\"Date\") + 10)\n",
    "            rD[\"FileName\"] = (ld.index(\"Date\") + 10, 1234)\n",
    "            using = True\n",
    "            continue\n",
    "        elif using:\n",
    "            if ld[0] == \"-\":\n",
    "                continue \n",
    "            for fn in \"FormType CompanyName CIK DateFiled FileName\".split():\n",
    "                tD[fn].append(ld[rD[fn][0]: rD[fn][1]].strip())\n",
    "        else:\n",
    "            pass\n",
    "        \n",
    "    if verbose:\n",
    "        print (rD)\n",
    "    \n",
    "    return pd.DataFrame(tD)"
   ]
  },
  {
   "cell_type": "markdown",
   "metadata": {},
   "source": [
    "#### testing fn\n",
    "First record of one file looks good. That means the function must be good. "
   ]
  },
  {
   "cell_type": "code",
   "execution_count": 5,
   "metadata": {},
   "outputs": [
    {
     "data": {
      "text/plain": [
       "FormType                                                 1\n",
       "CompanyName                       BOX Options Exchange LLC\n",
       "CIK                                                1540528\n",
       "DateFiled                                       2011-12-19\n",
       "FileName       edgar/data/1540528/9999999997-12-000395.txt\n",
       "Name: 0, dtype: object"
      ]
     },
     "execution_count": 5,
     "metadata": {},
     "output_type": "execute_result"
    }
   ],
   "source": [
    "tR = formDf2DF(os.path.join(IDXPATH, \"forms2011Q4.txt.gz\"))\n",
    "tR.iloc[0]"
   ]
  },
  {
   "cell_type": "markdown",
   "metadata": {},
   "source": [
    "#### consolidating\n",
    "Here pullig all files into one dataframe. "
   ]
  },
  {
   "cell_type": "code",
   "execution_count": 6,
   "metadata": {},
   "outputs": [
    {
     "data": {
      "text/plain": [
       "1994      65461\n",
       "1995     113651\n",
       "1996     202614\n",
       "1997     280130\n",
       "1998     313300\n",
       "1999     321262\n",
       "2000     341962\n",
       "2001     351443\n",
       "2002     448884\n",
       "2003     790772\n",
       "2004    1024212\n",
       "2005    1072293\n",
       "2006    1096629\n",
       "2007    1137504\n",
       "2008    1036835\n",
       "2009     938510\n",
       "2010     979764\n",
       "2011     979653\n",
       "2012     975111\n",
       "2013     990606\n",
       "2014     996892\n",
       "2015     995491\n",
       "2016     953061\n",
       "2017     971350\n",
       "2018     949919\n",
       "2019     951352\n",
       "2020     788478\n",
       "Name: yearFiled, dtype: int64"
      ]
     },
     "execution_count": 6,
     "metadata": {},
     "output_type": "execute_result"
    }
   ],
   "source": [
    "goodFileL = [os.path.join(IDXPATH, x) for x in os.listdir(IDXPATH)]\n",
    "tL = list(map(formDf2DF, goodFileL))\n",
    "consolR = pd.concat(tL)\n",
    "consolR[\"yearFiled\"] = consolR.DateFiled.str.slice(stop=4).astype(int)\n",
    "consolR.yearFiled.value_counts().sort_index()"
   ]
  },
  {
   "cell_type": "markdown",
   "metadata": {},
   "source": [
    "#### Most popular forms for 2020"
   ]
  },
  {
   "cell_type": "code",
   "execution_count": 7,
   "metadata": {},
   "outputs": [
    {
     "data": {
      "text/plain": [
       "4           292916\n",
       "8-K          54478\n",
       "424B2        47872\n",
       "NPORT-P      32480\n",
       "SC 13G/A     29790\n",
       "Name: FormType, dtype: int64"
      ]
     },
     "execution_count": 7,
     "metadata": {},
     "output_type": "execute_result"
    }
   ],
   "source": [
    "consolR.query(\"yearFiled == 2020\").FormType.value_counts().head()"
   ]
  },
  {
   "cell_type": "markdown",
   "metadata": {},
   "source": [
    "#### Looking for one type of form "
   ]
  },
  {
   "cell_type": "code",
   "execution_count": 8,
   "metadata": {},
   "outputs": [
    {
     "data": {
      "text/plain": [
       "ABS-EE      11958\n",
       "ABS-EE/A      210\n",
       "Name: FormType, dtype: int64"
      ]
     },
     "execution_count": 8,
     "metadata": {},
     "output_type": "execute_result"
    }
   ],
   "source": [
    "def isABSee(s):\n",
    "    if s[:6] == \"ABS-EE\":\n",
    "        return 1\n",
    "    else:\n",
    "        return 0\n",
    "\n",
    "consolR[\"isABSee\"] = list(map(isABSee, consolR.FormType))\n",
    "consolR.query(\"isABSee == 1\").FormType.value_counts()"
   ]
  },
  {
   "cell_type": "markdown",
   "metadata": {},
   "source": [
    "#### And because we always need a chart\n",
    "Counting the number of ABS-EE and AMSEE/A per month since the beginning of ABS-EE. The increase is steady because we accumulate more reporters. "
   ]
  },
  {
   "cell_type": "code",
   "execution_count": 9,
   "metadata": {},
   "outputs": [],
   "source": [
    "# filtering to speed\n",
    "absR = consolR.query(\"isABSee == 1\").copy()"
   ]
  },
  {
   "cell_type": "code",
   "execution_count": 10,
   "metadata": {
    "scrolled": true
   },
   "outputs": [
    {
     "data": {
      "text/plain": [
       "<matplotlib.legend.Legend at 0x7fe00e6a1250>"
      ]
     },
     "execution_count": 10,
     "metadata": {},
     "output_type": "execute_result"
    },
    {
     "data": {
      "image/png": "[encoded data removed]",
      "text/plain": [
       "<Figure size 576x432 with 1 Axes>"
      ]
     },
     "metadata": {
      "needs_background": "light"
     },
     "output_type": "display_data"
    }
   ],
   "source": [
    "absR[\"monthFiled\"] = absR.DateFiled.str[5:7].astype(int)\n",
    "countR = absR.groupby(\"yearFiled monthFiled\".split()).isABSee.sum().reset_index()\n",
    "fig, ax = plt.subplots(figsize=(8, 6))\n",
    "for year in range(2016, 2021):\n",
    "    tR = countR.query(\"yearFiled == @year\")\n",
    "    tR.plot(\"monthFiled\", \"isABSee\", label=year, ax=ax)\n",
    "\n",
    "ax.set_title(\"ABS-EE filings by Month 2016 to 2020 (mid month September)\")\n",
    "ax.set_ylabel(\"number of filings\")\n",
    "plt.legend()"
   ]
  },
  {
   "cell_type": "markdown",
   "metadata": {},
   "source": [
    "#### Saving for later"
   ]
  },
  {
   "cell_type": "code",
   "execution_count": 11,
   "metadata": {},
   "outputs": [
    {
     "data": {
      "text/plain": [
       "FormType                                            ABS-EE\n",
       "CompanyName                               AFS SENSUB CORP.\n",
       "CIK                                                1347185\n",
       "DateFiled                                       2019-04-02\n",
       "FileName       edgar/data/1347185/0001347185-19-000018.txt\n",
       "yearFiled                                             2019\n",
       "isABSee                                                  1\n",
       "monthFiled                                               4\n",
       "Name: 196182, dtype: object"
      ]
     },
     "execution_count": 11,
     "metadata": {},
     "output_type": "execute_result"
    }
   ],
   "source": [
    "absR.iloc[0]"
   ]
  },
  {
   "cell_type": "code",
   "execution_count": 13,
   "metadata": {},
   "outputs": [],
   "source": [
    "absR.sort_values(\"CompanyName DateFiled FormType\".split()).to_excel(\"index.xlsx\", index=False)"
   ]
  },
  {
   "cell_type": "markdown",
   "metadata": {},
   "source": [
    "### Editing name"
   ]
  },
  {
   "cell_type": "code",
   "execution_count": 12,
   "metadata": {},
   "outputs": [
    {
     "name": "stdout",
     "output_type": "stream",
     "text": [
      "edgar/data/1347185/0001347185-19-000018.txt\n",
      "https://www.sec.gov/Archives/edgar/data/0001347185/000134718519000018/0001347185-19-000018.txt\n"
     ]
    }
   ],
   "source": [
    "EDGAR = \"https://www.sec.gov/Archives\"\n",
    "def fixName(s):\n",
    "    \"\"\"\n",
    "    Parameters\n",
    "    ----------\n",
    "    s : str\n",
    "        The name from edgar index\n",
    "\n",
    "    Returns\n",
    "    -------\n",
    "    str : The actual name\n",
    "    \n",
    "    When EDGAR says the name is \n",
    "        edgar/data/1821685/0001104659-20-101638.txt\n",
    "    What they mean is that the name is https://www.sec.gov/Archives/ + \n",
    "        edgar/data/0001821685/000110465920101638/0001104659-20-101638.txt\n",
    "    \"\"\"\n",
    "    sL = s.split(\"/\")\n",
    "    nL = [EDGAR] + sL[:2]\n",
    "    nL.append(\"%010d\" %(int(sL[2])))\n",
    "    \n",
    "    nL.append(sL[-1].split(\".\")[0].replace(\"-\", \"\"))\n",
    "    nL.append(sL[-1])\n",
    "    \n",
    "    return \"/\".join(nL)\n",
    "\n",
    "print (absR.iloc[0].FileName)\n",
    "print (fixName(absR.iloc[0].FileName))"
   ]
  },
  {
   "cell_type": "markdown",
   "metadata": {},
   "source": [
    "#### Reading to show that we really got a doc"
   ]
  },
  {
   "cell_type": "code",
   "execution_count": 13,
   "metadata": {},
   "outputs": [
    {
     "data": {
      "text/plain": [
       "190047962"
      ]
     },
     "execution_count": 13,
     "metadata": {},
     "output_type": "execute_result"
    }
   ],
   "source": [
    "tempText = requests.get(fixName(absR.iloc[0].FileName)).text\n",
    "len(tempText)"
   ]
  },
  {
   "cell_type": "code",
   "execution_count": 14,
   "metadata": {},
   "outputs": [
    {
     "name": "stdout",
     "output_type": "stream",
     "text": [
      "<SEC-DOCUMENT>0001347185-19-000018.txt : 20190402\n",
      "<SEC-HEADER>0001347185-19-000018.hdr.sgml : 20190402\n",
      "<ACCEPTANCE-DATETIME>20190402125549\n",
      "ACCESSION NUMBER:\t\t0001347185-19-000018\n",
      "CONFORMED SUBMISSION TYPE:\tABS-EE\n",
      "PUBLIC DOCUMENT COUNT:\t\t3\n",
      "CONFORMED PERIOD OF REPORT:\t20190228\n",
      "<DEPOSITOR-CIK>0001347185\n",
      "<SPONSOR-CIK>0001002761\n",
      "FILED AS OF DATE:\t\t20190402\n"
     ]
    }
   ],
   "source": [
    "for line in tempText.split(\"\\n\")[:10]:\n",
    "    print (line[:80])"
   ]
  },
  {
   "cell_type": "code",
   "execution_count": null,
   "metadata": {},
   "outputs": [],
   "source": []
  }
 ],
 "metadata": {
  "kernelspec": {
   "display_name": "Python 3",
   "language": "python",
   "name": "python3"
  },
  "language_info": {
   "codemirror_mode": {
    "name": "ipython",
    "version": 3
   },
   "file_extension": ".py",
   "mimetype": "text/x-python",
   "name": "python",
   "nbconvert_exporter": "python",
   "pygments_lexer": "ipython3",
   "version": "3.8.3"
  }
 },
 "nbformat": 4,
 "nbformat_minor": 4
}
