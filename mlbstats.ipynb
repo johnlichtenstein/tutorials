{
 "cells": [
  {
   "cell_type": "markdown",
   "metadata": {},
   "source": [
    "<a id=\"top\"></a>\n",
    "## MLB-StatsAPI\n",
    "2020-08-27\n",
    "Using [MLB-StatsAPI](https://github.com/toddrob99/MLB-StatsAPI). Here we use just the [schedule](https://github.com/toddrob99/MLB-StatsAPI/wiki/Function:-schedule) function. \n",
    "\n",
    "The following setup is required \n",
    "- conda install tabulate\n",
    "- pip install MLB-StatsAPI\n",
    "- pip install xiongmao\n",
    "\n",
    "Examples Shown\n",
    "- Creating simple [table](#table) showing home_id/away_id -> home_name/away_name \n",
    "- Grab the [season](#season) for a club\n",
    "- Find longest win [streak](#streak) in a regular season\n",
    "- [sample](#sample) response record from schedule method \n",
    "- Remembering [Padres](#135) 10 game streak in 2019"
   ]
  },
  {
   "cell_type": "code",
   "execution_count": 2,
   "metadata": {},
   "outputs": [],
   "source": [
    "import pandas as pd\n",
    "from datetime import datetime as dt\n",
    "import numpy as np \n",
    "\n",
    "import statsapi as mlb\n",
    "\n",
    "import xiongmao"
   ]
  },
  {
   "cell_type": "markdown",
   "metadata": {},
   "source": [
    "### Helper Function\n",
    "The MLB API returns a list of dictionaries. For Pandas, it's better to have a dictionary of lists. This does that conversion and creates DataFrame. "
   ]
  },
  {
   "cell_type": "code",
   "execution_count": 3,
   "metadata": {},
   "outputs": [],
   "source": [
    "def dL2df(dL):\n",
    "    \"\"\"\n",
    "    Convert list of dictionaries to dictionary of lists\n",
    "    \"\"\"\n",
    "    kL = dL[0].keys()\n",
    "    LD = {k: [] for k in kL}\n",
    "    \n",
    "    for entry in dL:\n",
    "        for k in kL:\n",
    "            try:\n",
    "                LD[k].append(entry[k])\n",
    "            except KeyError:\n",
    "                LD[k].append(None)\n",
    "    \n",
    "    return pd.DataFrame(LD, columns=kL)"
   ]
  },
  {
   "cell_type": "markdown",
   "metadata": {},
   "source": [
    "<a id=\"table\"></a>\n",
    "### Table Showing club_id -> club_name\n",
    "The MLB has an integer id for each club. It can be handy to use the id rather than the name to do searches, because integers are so easy to type. A table can be handy to keep those straight. Here we \n",
    "- Use the API to grab the month of July 2017\n",
    "- Find the home_id / away_id correspondence\n",
    "- Do the same for away_id /away_name\n",
    "- Concatenate those and show hte table\n",
    "\n",
    "Back to [top](#top)"
   ]
  },
  {
   "cell_type": "code",
   "execution_count": 4,
   "metadata": {},
   "outputs": [
    {
     "name": "stdout",
     "output_type": "stream",
     "text": [
      "|   team_id | team_name                 |\n",
      "|----------:|:--------------------------|\n",
      "|       108 | Los Angeles Angels        |\n",
      "|       109 | Arizona Diamondbacks      |\n",
      "|       110 | Baltimore Orioles         |\n",
      "|       111 | Boston Red Sox            |\n",
      "|       112 | Chicago Cubs              |\n",
      "|       113 | Cincinnati Reds           |\n",
      "|       114 | Cleveland Indians         |\n",
      "|       115 | Colorado Rockies          |\n",
      "|       116 | Detroit Tigers            |\n",
      "|       117 | Houston Astros            |\n",
      "|       118 | Kansas City Royals        |\n",
      "|       119 | Los Angeles Dodgers       |\n",
      "|       120 | Washington Nationals      |\n",
      "|       121 | New York Mets             |\n",
      "|       133 | Oakland Athletics         |\n",
      "|       134 | Pittsburgh Pirates        |\n",
      "|       135 | San Diego Padres          |\n",
      "|       136 | Seattle Mariners          |\n",
      "|       137 | San Francisco Giants      |\n",
      "|       138 | St. Louis Cardinals       |\n",
      "|       139 | Tampa Bay Rays            |\n",
      "|       140 | Texas Rangers             |\n",
      "|       141 | Toronto Blue Jays         |\n",
      "|       142 | Minnesota Twins           |\n",
      "|       143 | Philadelphia Phillies     |\n",
      "|       144 | Atlanta Braves            |\n",
      "|       145 | Chicago White Sox         |\n",
      "|       146 | Miami Marlins             |\n",
      "|       147 | New York Yankees          |\n",
      "|       158 | Milwaukee Brewers         |\n",
      "|       159 | American League All-Stars |\n",
      "|       160 | National League All-Stars |\n"
     ]
    }
   ],
   "source": [
    "month = mlb.schedule(start_date='07/01/2018',end_date='07/31/2018') # grabbing month\n",
    "mR = dL2df(month) # converting to dataframe\n",
    "\n",
    "# creating correspondence\n",
    "homeNameR = mR.xTab(*\"home_id home_name\".split()).stack().todf().reset_index()\n",
    "awayNameR = mR.xTab(*\"away_id away_name\".split()).stack().todf().reset_index()\n",
    "# making names the same\n",
    "homeNameR.columns = awayNameR.columns = \"team_id team_name count\".split()\n",
    "# concatenating\n",
    "teamNameR = pd.concat((homeNameR.query(\"count > 0\"), awayNameR.query(\"count > 0\")))\n",
    "# keeping only id and name\n",
    "teamNameR = teamNameR.set_index(\"team_id\").drop(columns=\"count\") \\\n",
    "    .drop_duplicates().sort_index()\n",
    "print (teamNameR.to_markdown())"
   ]
  },
  {
   "cell_type": "markdown",
   "metadata": {},
   "source": [
    "<a id=\"season\"></a>\n",
    "### Grabbing a Season for One Club\n",
    "We can grab the results for a season for a club \n",
    "- using the start_date and end_date limits to one season\n",
    "- using the team filter provides both home and away games\n",
    "\n",
    "Back to [top](#top)"
   ]
  },
  {
   "cell_type": "code",
   "execution_count": 5,
   "metadata": {},
   "outputs": [
    {
     "name": "stdout",
     "output_type": "stream",
     "text": [
      "08:11:07\n",
      "08:11:11\n"
     ]
    }
   ],
   "source": [
    "print (dt.now().strftime(\"%H:%M:%S\")) # printing time query started\n",
    "cubs2016L = mlb.schedule(start_date='01/01/2016',end_date='12/31/2016', team=112)\n",
    "print (dt.now().strftime(\"%H:%M:%S\")) # printing time query stopped"
   ]
  },
  {
   "cell_type": "code",
   "execution_count": 6,
   "metadata": {},
   "outputs": [
    {
     "data": {
      "text/plain": [
       "(214, 27)"
      ]
     },
     "execution_count": 6,
     "metadata": {},
     "output_type": "execute_result"
    }
   ],
   "source": [
    "cubs2016R = dL2df(cubs2016L)\n",
    "cubs2016R.shape"
   ]
  },
  {
   "cell_type": "markdown",
   "metadata": {},
   "source": [
    "#### Discussion\n",
    "The record shows 214 games for the 2016 Cubs, which seems like a few too many, so we can look at the game_type field to get an idea of what those all are. We can figure out the encoding from the counts. \n",
    "\n",
    "| game_type   |   frequency | description |\n",
    "|:---|------------:|:----|\n",
    "| D  |           4 | Division Series|\n",
    "| L  |           6 | League Championship|\n",
    "| R  |         165 | Regular Season|\n",
    "| S  |          32 | Spring Training|\n",
    "| W  |           7 | World Series|\n",
    "\n",
    "165 still seems like too many Regular Season games, till we look at the status to see that 3 games wer Postponed. "
   ]
  },
  {
   "cell_type": "code",
   "execution_count": 7,
   "metadata": {},
   "outputs": [
    {
     "name": "stdout",
     "output_type": "stream",
     "text": [
      "|    |   game_type |\n",
      "|:---|------------:|\n",
      "| D  |           4 |\n",
      "| L  |           6 |\n",
      "| R  |         165 |\n",
      "| S  |          32 |\n",
      "| W  |           7 |\n"
     ]
    }
   ],
   "source": [
    "print (cubs2016R.game_type.value_counts().sort_index().to_markdown())"
   ]
  },
  {
   "cell_type": "code",
   "execution_count": 8,
   "metadata": {},
   "outputs": [
    {
     "data": {
      "text/html": [
       "<div>\n",
       "<style scoped>\n",
       "    .dataframe tbody tr th:only-of-type {\n",
       "        vertical-align: middle;\n",
       "    }\n",
       "\n",
       "    .dataframe tbody tr th {\n",
       "        vertical-align: top;\n",
       "    }\n",
       "\n",
       "    .dataframe thead th {\n",
       "        text-align: right;\n",
       "    }\n",
       "</style>\n",
       "<table border=\"1\" class=\"dataframe\">\n",
       "  <thead>\n",
       "    <tr style=\"text-align: right;\">\n",
       "      <th>status</th>\n",
       "      <th>Final</th>\n",
       "      <th>Final: Tied</th>\n",
       "      <th>Postponed</th>\n",
       "    </tr>\n",
       "    <tr>\n",
       "      <th>game_type</th>\n",
       "      <th></th>\n",
       "      <th></th>\n",
       "      <th></th>\n",
       "    </tr>\n",
       "  </thead>\n",
       "  <tbody>\n",
       "    <tr>\n",
       "      <th>D</th>\n",
       "      <td>4</td>\n",
       "      <td>0</td>\n",
       "      <td>0</td>\n",
       "    </tr>\n",
       "    <tr>\n",
       "      <th>L</th>\n",
       "      <td>6</td>\n",
       "      <td>0</td>\n",
       "      <td>0</td>\n",
       "    </tr>\n",
       "    <tr>\n",
       "      <th>R</th>\n",
       "      <td>161</td>\n",
       "      <td>1</td>\n",
       "      <td>3</td>\n",
       "    </tr>\n",
       "    <tr>\n",
       "      <th>S</th>\n",
       "      <td>30</td>\n",
       "      <td>2</td>\n",
       "      <td>0</td>\n",
       "    </tr>\n",
       "    <tr>\n",
       "      <th>W</th>\n",
       "      <td>7</td>\n",
       "      <td>0</td>\n",
       "      <td>0</td>\n",
       "    </tr>\n",
       "  </tbody>\n",
       "</table>\n",
       "</div>"
      ],
      "text/plain": [
       "status     Final  Final: Tied  Postponed\n",
       "game_type                               \n",
       "D              4            0          0\n",
       "L              6            0          0\n",
       "R            161            1          3\n",
       "S             30            2          0\n",
       "W              7            0          0"
      ]
     },
     "execution_count": 8,
     "metadata": {},
     "output_type": "execute_result"
    }
   ],
   "source": [
    "cubs2016R.xTab(*\"game_type status\".split())"
   ]
  },
  {
   "cell_type": "markdown",
   "metadata": {},
   "source": [
    "<a id=\"streak\"></a>\n",
    "### Counting Wins and Streaks of Wins\n",
    "With the game results, let's \n",
    "- code each game as a cubs win (1) or loss (0)\n",
    "- count the number of Cubs wins by game type \n",
    "- find the longerst streak within the R type games\n",
    "\n",
    "Removing the Postpomned status games. \n",
    "\n",
    "Back to [top](#top)"
   ]
  },
  {
   "cell_type": "code",
   "execution_count": 9,
   "metadata": {},
   "outputs": [
    {
     "name": "stdout",
     "output_type": "stream",
     "text": [
      "| game_type   |   0 |   1 |\n",
      "|:------------|----:|----:|\n",
      "| D           |   1 |   3 |\n",
      "| L           |   2 |   4 |\n",
      "| R           |  62 | 103 |\n",
      "| S           |  21 |  11 |\n",
      "| W           |   3 |   4 |\n"
     ]
    }
   ],
   "source": [
    "cubs2016R[\"win\"] = np.where(cubs2016R.winning_team == \"Chicago Cubs\", 1, 0)\n",
    "print (cubs2016R.xTab(*\"game_type win\".split()).to_markdown())"
   ]
  },
  {
   "cell_type": "code",
   "execution_count": 10,
   "metadata": {},
   "outputs": [
    {
     "data": {
      "text/plain": [
       "Final          208\n",
       "Final: Tied      3\n",
       "Postponed        3\n",
       "Name: status, dtype: int64"
      ]
     },
     "execution_count": 10,
     "metadata": {},
     "output_type": "execute_result"
    }
   ],
   "source": [
    "cubs2016R.status.value_counts()"
   ]
  },
  {
   "cell_type": "code",
   "execution_count": 11,
   "metadata": {},
   "outputs": [
    {
     "data": {
      "text/html": [
       "<div>\n",
       "<style scoped>\n",
       "    .dataframe tbody tr th:only-of-type {\n",
       "        vertical-align: middle;\n",
       "    }\n",
       "\n",
       "    .dataframe tbody tr th {\n",
       "        vertical-align: top;\n",
       "    }\n",
       "\n",
       "    .dataframe thead th {\n",
       "        text-align: right;\n",
       "    }\n",
       "</style>\n",
       "<table border=\"1\" class=\"dataframe\">\n",
       "  <thead>\n",
       "    <tr style=\"text-align: right;\">\n",
       "      <th></th>\n",
       "      <th>game_date</th>\n",
       "      <th>win</th>\n",
       "      <th>streak</th>\n",
       "    </tr>\n",
       "  </thead>\n",
       "  <tbody>\n",
       "    <tr>\n",
       "      <th>0</th>\n",
       "      <td>2016-04-04</td>\n",
       "      <td>1</td>\n",
       "      <td>1</td>\n",
       "    </tr>\n",
       "    <tr>\n",
       "      <th>1</th>\n",
       "      <td>2016-04-05</td>\n",
       "      <td>1</td>\n",
       "      <td>2</td>\n",
       "    </tr>\n",
       "    <tr>\n",
       "      <th>2</th>\n",
       "      <td>2016-04-07</td>\n",
       "      <td>1</td>\n",
       "      <td>3</td>\n",
       "    </tr>\n",
       "    <tr>\n",
       "      <th>3</th>\n",
       "      <td>2016-04-08</td>\n",
       "      <td>0</td>\n",
       "      <td>0</td>\n",
       "    </tr>\n",
       "    <tr>\n",
       "      <th>4</th>\n",
       "      <td>2016-04-09</td>\n",
       "      <td>1</td>\n",
       "      <td>1</td>\n",
       "    </tr>\n",
       "    <tr>\n",
       "      <th>5</th>\n",
       "      <td>2016-04-10</td>\n",
       "      <td>1</td>\n",
       "      <td>2</td>\n",
       "    </tr>\n",
       "  </tbody>\n",
       "</table>\n",
       "</div>"
      ],
      "text/plain": [
       "    game_date  win  streak\n",
       "0  2016-04-04    1       1\n",
       "1  2016-04-05    1       2\n",
       "2  2016-04-07    1       3\n",
       "3  2016-04-08    0       0\n",
       "4  2016-04-09    1       1\n",
       "5  2016-04-10    1       2"
      ]
     },
     "execution_count": 11,
     "metadata": {},
     "output_type": "execute_result"
    }
   ],
   "source": [
    "wsL = []\n",
    "regSeasR = cubs2016R.query(\"status == 'Final' and game_type == 'R'\").copy().reset_index()\n",
    "for i, game in regSeasR.iterrows():\n",
    "    if i == 0:\n",
    "        wsL.append(game.win)\n",
    "    else:\n",
    "        cw = (wsL[i-1] + game.win) * game.win\n",
    "        wsL.append(cw)\n",
    "\n",
    "regSeasR[\"streak\"] = wsL\n",
    "\n",
    "regSeasR[\"game_date win streak\".split()][:6]"
   ]
  },
  {
   "cell_type": "code",
   "execution_count": 12,
   "metadata": {},
   "outputs": [
    {
     "data": {
      "text/plain": [
       "11"
      ]
     },
     "execution_count": 12,
     "metadata": {},
     "output_type": "execute_result"
    }
   ],
   "source": [
    "regSeasR.streak.max()"
   ]
  },
  {
   "cell_type": "markdown",
   "metadata": {},
   "source": [
    "<a id=\"sample\"></a>\n",
    "### Example Schedule Record\n",
    "\n",
    "Because looking at the data is how to make sense of it.\n",
    "\n",
    "Back to [top](#top)"
   ]
  },
  {
   "cell_type": "code",
   "execution_count": 13,
   "metadata": {},
   "outputs": [
    {
     "data": {
      "text/plain": [
       "game_id                                                             469433\n",
       "game_datetime                                         2016-03-03T20:05:00Z\n",
       "game_date                                                       2016-03-03\n",
       "game_type                                                                S\n",
       "status                                                               Final\n",
       "away_name                                                     Chicago Cubs\n",
       "home_name                                                Milwaukee Brewers\n",
       "away_id                                                                112\n",
       "home_id                                                                158\n",
       "doubleheader                                                             N\n",
       "game_num                                                                 1\n",
       "home_probable_pitcher                                       Chase Anderson\n",
       "away_probable_pitcher                                          Travis Wood\n",
       "home_pitcher_note                                                         \n",
       "away_pitcher_note                                                         \n",
       "away_score                                                               1\n",
       "home_score                                                               2\n",
       "current_inning                                                           9\n",
       "inning_state                                                           Top\n",
       "venue_id                                                              2518\n",
       "venue_name                                          Maryvale Baseball Park\n",
       "winning_team                                             Milwaukee Brewers\n",
       "losing_team                                                   Chicago Cubs\n",
       "winning_pitcher                                             Chase Anderson\n",
       "losing_pitcher                                                 Travis Wood\n",
       "save_pitcher                                                 Junior Guerra\n",
       "summary                  2016-03-03 - Chicago Cubs (1) @ Milwaukee Brew...\n",
       "win                                                                      0\n",
       "Name: 0, dtype: object"
      ]
     },
     "execution_count": 13,
     "metadata": {},
     "output_type": "execute_result"
    }
   ],
   "source": [
    "cubs2016R.iloc[0]"
   ]
  },
  {
   "cell_type": "markdown",
   "metadata": {},
   "source": [
    "<a id=\"135\"></a>\n",
    "### Counting Wins and Streaks of Wins\n",
    "And since my club 135 just finished a 7 game winning streak, when is the last time that happened? \n",
    "\n",
    "Back to [top](#top)"
   ]
  },
  {
   "cell_type": "code",
   "execution_count": 14,
   "metadata": {},
   "outputs": [
    {
     "name": "stdout",
     "output_type": "stream",
     "text": [
      "08:11:12\n",
      "08:11:13\n"
     ]
    },
    {
     "data": {
      "text/plain": [
       "10"
      ]
     },
     "execution_count": 14,
     "metadata": {},
     "output_type": "execute_result"
    }
   ],
   "source": [
    "# 2019?\n",
    "team=135\n",
    "year=2019\n",
    "print (dt.now().strftime(\"%H:%M:%S\")) # printing time query started\n",
    "seasL = mlb.schedule(start_date='01/01/%d' %(year),end_date='12/31/%d' %(year), team=team)\n",
    "print (dt.now().strftime(\"%H:%M:%S\")) # printing time query stopped\n",
    "seasR = dL2df(seasL) \n",
    "regR = seasR.query(\"status == 'Final' and game_type == 'R'\").copy().reset_index()\n",
    "regR[\"win\"] = np.where(regR.winning_team == \"San Diego Padres\", 1, 0)\n",
    "\n",
    "wsL = []\n",
    "for i, game in regR.iterrows():\n",
    "    if i == 0:\n",
    "        wsL.append(game.win)\n",
    "    else:\n",
    "        cw = (wsL[i-1] + game.win) * game.win\n",
    "        wsL.append(cw)\n",
    "\n",
    "regR[\"streak\"] = wsL\n",
    "regR.streak.max()"
   ]
  },
  {
   "cell_type": "markdown",
   "metadata": {},
   "source": [
    "#### 10 game streak in 2019\n",
    "This streak was 3 series sweeps against NL East teams at home between losses on the road. "
   ]
  },
  {
   "cell_type": "code",
   "execution_count": 15,
   "metadata": {},
   "outputs": [
    {
     "data": {
      "text/html": [
       "<div>\n",
       "<style scoped>\n",
       "    .dataframe tbody tr th:only-of-type {\n",
       "        vertical-align: middle;\n",
       "    }\n",
       "\n",
       "    .dataframe tbody tr th {\n",
       "        vertical-align: top;\n",
       "    }\n",
       "\n",
       "    .dataframe thead th {\n",
       "        text-align: right;\n",
       "    }\n",
       "</style>\n",
       "<table border=\"1\" class=\"dataframe\">\n",
       "  <thead>\n",
       "    <tr style=\"text-align: right;\">\n",
       "      <th></th>\n",
       "      <th>game_date</th>\n",
       "      <th>losing_team</th>\n",
       "      <th>venue_name</th>\n",
       "    </tr>\n",
       "  </thead>\n",
       "  <tbody>\n",
       "    <tr>\n",
       "      <th>65</th>\n",
       "      <td>2019-06-09</td>\n",
       "      <td>Washington Nationals</td>\n",
       "      <td>Petco Park</td>\n",
       "    </tr>\n",
       "  </tbody>\n",
       "</table>\n",
       "</div>"
      ],
      "text/plain": [
       "     game_date           losing_team  venue_name\n",
       "65  2019-06-09  Washington Nationals  Petco Park"
      ]
     },
     "execution_count": 15,
     "metadata": {},
     "output_type": "execute_result"
    }
   ],
   "source": [
    "regR.query(\"streak == 10\")[\"game_date losing_team venue_name\".split()]"
   ]
  },
  {
   "cell_type": "code",
   "execution_count": 16,
   "metadata": {},
   "outputs": [
    {
     "data": {
      "text/html": [
       "<div>\n",
       "<style scoped>\n",
       "    .dataframe tbody tr th:only-of-type {\n",
       "        vertical-align: middle;\n",
       "    }\n",
       "\n",
       "    .dataframe tbody tr th {\n",
       "        vertical-align: top;\n",
       "    }\n",
       "\n",
       "    .dataframe thead th {\n",
       "        text-align: right;\n",
       "    }\n",
       "</style>\n",
       "<table border=\"1\" class=\"dataframe\">\n",
       "  <thead>\n",
       "    <tr style=\"text-align: right;\">\n",
       "      <th></th>\n",
       "      <th>game_date</th>\n",
       "      <th>losing_team</th>\n",
       "      <th>venue_name</th>\n",
       "    </tr>\n",
       "  </thead>\n",
       "  <tbody>\n",
       "    <tr>\n",
       "      <th>55</th>\n",
       "      <td>2019-05-29</td>\n",
       "      <td>San Diego Padres</td>\n",
       "      <td>Yankee Stadium</td>\n",
       "    </tr>\n",
       "    <tr>\n",
       "      <th>56</th>\n",
       "      <td>2019-05-31</td>\n",
       "      <td>Miami Marlins</td>\n",
       "      <td>Petco Park</td>\n",
       "    </tr>\n",
       "    <tr>\n",
       "      <th>57</th>\n",
       "      <td>2019-06-01</td>\n",
       "      <td>Miami Marlins</td>\n",
       "      <td>Petco Park</td>\n",
       "    </tr>\n",
       "    <tr>\n",
       "      <th>58</th>\n",
       "      <td>2019-06-02</td>\n",
       "      <td>Miami Marlins</td>\n",
       "      <td>Petco Park</td>\n",
       "    </tr>\n",
       "    <tr>\n",
       "      <th>59</th>\n",
       "      <td>2019-06-03</td>\n",
       "      <td>Philadelphia Phillies</td>\n",
       "      <td>Petco Park</td>\n",
       "    </tr>\n",
       "    <tr>\n",
       "      <th>60</th>\n",
       "      <td>2019-06-04</td>\n",
       "      <td>Philadelphia Phillies</td>\n",
       "      <td>Petco Park</td>\n",
       "    </tr>\n",
       "    <tr>\n",
       "      <th>61</th>\n",
       "      <td>2019-06-05</td>\n",
       "      <td>Philadelphia Phillies</td>\n",
       "      <td>Petco Park</td>\n",
       "    </tr>\n",
       "    <tr>\n",
       "      <th>62</th>\n",
       "      <td>2019-06-06</td>\n",
       "      <td>Washington Nationals</td>\n",
       "      <td>Petco Park</td>\n",
       "    </tr>\n",
       "    <tr>\n",
       "      <th>63</th>\n",
       "      <td>2019-06-07</td>\n",
       "      <td>Washington Nationals</td>\n",
       "      <td>Petco Park</td>\n",
       "    </tr>\n",
       "    <tr>\n",
       "      <th>64</th>\n",
       "      <td>2019-06-08</td>\n",
       "      <td>Washington Nationals</td>\n",
       "      <td>Petco Park</td>\n",
       "    </tr>\n",
       "    <tr>\n",
       "      <th>65</th>\n",
       "      <td>2019-06-09</td>\n",
       "      <td>Washington Nationals</td>\n",
       "      <td>Petco Park</td>\n",
       "    </tr>\n",
       "    <tr>\n",
       "      <th>66</th>\n",
       "      <td>2019-06-11</td>\n",
       "      <td>San Diego Padres</td>\n",
       "      <td>Oracle Park</td>\n",
       "    </tr>\n",
       "  </tbody>\n",
       "</table>\n",
       "</div>"
      ],
      "text/plain": [
       "     game_date            losing_team      venue_name\n",
       "55  2019-05-29       San Diego Padres  Yankee Stadium\n",
       "56  2019-05-31          Miami Marlins      Petco Park\n",
       "57  2019-06-01          Miami Marlins      Petco Park\n",
       "58  2019-06-02          Miami Marlins      Petco Park\n",
       "59  2019-06-03  Philadelphia Phillies      Petco Park\n",
       "60  2019-06-04  Philadelphia Phillies      Petco Park\n",
       "61  2019-06-05  Philadelphia Phillies      Petco Park\n",
       "62  2019-06-06   Washington Nationals      Petco Park\n",
       "63  2019-06-07   Washington Nationals      Petco Park\n",
       "64  2019-06-08   Washington Nationals      Petco Park\n",
       "65  2019-06-09   Washington Nationals      Petco Park\n",
       "66  2019-06-11       San Diego Padres     Oracle Park"
      ]
     },
     "execution_count": 16,
     "metadata": {},
     "output_type": "execute_result"
    }
   ],
   "source": [
    "regR[55:67][\"game_date losing_team venue_name\".split()]"
   ]
  },
  {
   "cell_type": "markdown",
   "metadata": {},
   "source": [
    "#### Other 7 game streaks in 2019\n",
    "There were actually a few 7 game or longer streaks in 2019. "
   ]
  },
  {
   "cell_type": "code",
   "execution_count": 18,
   "metadata": {},
   "outputs": [
    {
     "data": {
      "text/html": [
       "<div>\n",
       "<style scoped>\n",
       "    .dataframe tbody tr th:only-of-type {\n",
       "        vertical-align: middle;\n",
       "    }\n",
       "\n",
       "    .dataframe tbody tr th {\n",
       "        vertical-align: top;\n",
       "    }\n",
       "\n",
       "    .dataframe thead th {\n",
       "        text-align: right;\n",
       "    }\n",
       "</style>\n",
       "<table border=\"1\" class=\"dataframe\">\n",
       "  <thead>\n",
       "    <tr style=\"text-align: right;\">\n",
       "      <th></th>\n",
       "      <th>game_date</th>\n",
       "      <th>losing_team</th>\n",
       "      <th>venue_name</th>\n",
       "    </tr>\n",
       "  </thead>\n",
       "  <tbody>\n",
       "    <tr>\n",
       "      <th>6</th>\n",
       "      <td>2019-04-03</td>\n",
       "      <td>Arizona Diamondbacks</td>\n",
       "      <td>Petco Park</td>\n",
       "    </tr>\n",
       "    <tr>\n",
       "      <th>23</th>\n",
       "      <td>2019-04-23</td>\n",
       "      <td>Seattle Mariners</td>\n",
       "      <td>Petco Park</td>\n",
       "    </tr>\n",
       "    <tr>\n",
       "      <th>49</th>\n",
       "      <td>2019-05-22</td>\n",
       "      <td>Arizona Diamondbacks</td>\n",
       "      <td>Petco Park</td>\n",
       "    </tr>\n",
       "    <tr>\n",
       "      <th>62</th>\n",
       "      <td>2019-06-06</td>\n",
       "      <td>Washington Nationals</td>\n",
       "      <td>Petco Park</td>\n",
       "    </tr>\n",
       "    <tr>\n",
       "      <th>119</th>\n",
       "      <td>2019-08-14</td>\n",
       "      <td>Tampa Bay Rays</td>\n",
       "      <td>Petco Park</td>\n",
       "    </tr>\n",
       "    <tr>\n",
       "      <th>145</th>\n",
       "      <td>2019-09-12</td>\n",
       "      <td>Chicago Cubs</td>\n",
       "      <td>Petco Park</td>\n",
       "    </tr>\n",
       "  </tbody>\n",
       "</table>\n",
       "</div>"
      ],
      "text/plain": [
       "      game_date           losing_team  venue_name\n",
       "6    2019-04-03  Arizona Diamondbacks  Petco Park\n",
       "23   2019-04-23      Seattle Mariners  Petco Park\n",
       "49   2019-05-22  Arizona Diamondbacks  Petco Park\n",
       "62   2019-06-06  Washington Nationals  Petco Park\n",
       "119  2019-08-14        Tampa Bay Rays  Petco Park\n",
       "145  2019-09-12          Chicago Cubs  Petco Park"
      ]
     },
     "execution_count": 18,
     "metadata": {},
     "output_type": "execute_result"
    }
   ],
   "source": [
    "regR.query(\"streak == 7\")[\"game_date losing_team venue_name\".split()]"
   ]
  },
  {
   "cell_type": "code",
   "execution_count": null,
   "metadata": {},
   "outputs": [],
   "source": []
  }
 ],
 "metadata": {
  "kernelspec": {
   "display_name": "Python 3",
   "language": "python",
   "name": "python3"
  },
  "language_info": {
   "codemirror_mode": {
    "name": "ipython",
    "version": 3
   },
   "file_extension": ".py",
   "mimetype": "text/x-python",
   "name": "python",
   "nbconvert_exporter": "python",
   "pygments_lexer": "ipython3",
   "version": "3.8.3"
  }
 },
 "nbformat": 4,
 "nbformat_minor": 4
}
